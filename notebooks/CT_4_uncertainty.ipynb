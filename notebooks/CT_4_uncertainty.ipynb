{
 "cells": [
  {
   "cell_type": "markdown",
   "metadata": {},
   "source": [
    "## Log data munging and EDA\n",
    "\n",
    "Just getting set up, testing"
   ]
  },
  {
   "cell_type": "code",
   "execution_count": 1,
   "metadata": {},
   "outputs": [],
   "source": [
    "import pandas as pd\n",
    "import numpy as np\n",
    "import seaborn as sns\n",
    "import matplotlib.pyplot as plt\n",
    "%matplotlib inline"
   ]
  },
  {
   "cell_type": "code",
   "execution_count": 2,
   "metadata": {},
   "outputs": [
    {
     "name": "stdout",
     "output_type": "stream",
     "text": [
      "Do you really want to drill me?\n",
      "Do you really want to make me cry\n",
      "AH AH AH AH\n"
     ]
    }
   ],
   "source": [
    "import sys\n",
    "sys.path.insert(0,'../')\n",
    "\n",
    "import mysticbit\n",
    "from mysticbit import munging, ml, plots"
   ]
  },
  {
   "cell_type": "code",
   "execution_count": 39,
   "metadata": {},
   "outputs": [
    {
     "name": "stdout",
     "output_type": "stream",
     "text": [
      "Train well:  {'B08', 'B14', 'G09', 'G16', 'G10', 'G17', 'G08', 'G070', 'G12', 'B200', 'B12', 'B13', 'B0700', 'G06', 'G15'}\n",
      "Test wells:  {'B05', 'B03', 'B06'}\n"
     ]
    }
   ],
   "source": [
    "df_logs = munging.load_log_data()\n",
    "\n",
    "df_ml = munging.create_ml_dataframe(df_logs, feature_lags = range(10), label_lags = range(5))\n",
    "\n",
    "df_ml_train, df_ml_test = ml.train_test_split(df_ml)"
   ]
  },
  {
   "cell_type": "code",
   "execution_count": 40,
   "metadata": {},
   "outputs": [
    {
     "name": "stdout",
     "output_type": "stream",
     "text": [
      "X cols:  ['GR_lag_0', 'GR_lag_1', 'GR_lag_2', 'GR_lag_3', 'GR_lag_4', 'GR_lag_5', 'GR_lag_6', 'GR_lag_7', 'GR_lag_8', 'GR_lag_9']\n",
      "y cols:  ['GR_futr_0', 'GR_futr_1', 'GR_futr_2', 'GR_futr_3', 'GR_futr_4']\n"
     ]
    }
   ],
   "source": [
    "X_cols = [c for c in df_ml_train.columns if 'lag' in c]\n",
    "y_cols = [c for c in df_ml_train.columns if 'futr' in c]\n",
    "\n",
    "print('X cols: ', X_cols)\n",
    "print('y cols: ', y_cols)"
   ]
  },
  {
   "cell_type": "code",
   "execution_count": 41,
   "metadata": {},
   "outputs": [],
   "source": [
    "models = ml.make_multiple_models(df_ml_train, X_cols, y_cols)"
   ]
  },
  {
   "cell_type": "code",
   "execution_count": 42,
   "metadata": {},
   "outputs": [],
   "source": [
    "df_pred = ml.make_predictions(models, df_ml, X_cols, y_cols)"
   ]
  },
  {
   "cell_type": "code",
   "execution_count": 43,
   "metadata": {},
   "outputs": [
    {
     "data": {
      "text/html": [
       "<div>\n",
       "<style scoped>\n",
       "    .dataframe tbody tr th:only-of-type {\n",
       "        vertical-align: middle;\n",
       "    }\n",
       "\n",
       "    .dataframe tbody tr th {\n",
       "        vertical-align: top;\n",
       "    }\n",
       "\n",
       "    .dataframe thead th {\n",
       "        text-align: right;\n",
       "    }\n",
       "</style>\n",
       "<table border=\"1\" class=\"dataframe\">\n",
       "  <thead>\n",
       "    <tr style=\"text-align: right;\">\n",
       "      <th></th>\n",
       "      <th>HACKANAME</th>\n",
       "      <th>TVDSS</th>\n",
       "      <th>GR</th>\n",
       "      <th>RES_ID</th>\n",
       "      <th>GR_lag_0</th>\n",
       "      <th>GR_lag_1</th>\n",
       "      <th>GR_lag_2</th>\n",
       "      <th>GR_lag_3</th>\n",
       "      <th>GR_lag_4</th>\n",
       "      <th>GR_lag_5</th>\n",
       "      <th>...</th>\n",
       "      <th>GR_futr_0_pred_base</th>\n",
       "      <th>GR_futr_1_pred_base</th>\n",
       "      <th>GR_futr_2_pred_base</th>\n",
       "      <th>GR_futr_3_pred_base</th>\n",
       "      <th>GR_futr_4_pred_base</th>\n",
       "      <th>GR_futr_0_pred_low</th>\n",
       "      <th>GR_futr_1_pred_low</th>\n",
       "      <th>GR_futr_2_pred_low</th>\n",
       "      <th>GR_futr_3_pred_low</th>\n",
       "      <th>GR_futr_4_pred_low</th>\n",
       "    </tr>\n",
       "  </thead>\n",
       "  <tbody>\n",
       "    <tr>\n",
       "      <th>0</th>\n",
       "      <td>B03</td>\n",
       "      <td>1583</td>\n",
       "      <td>58.601429</td>\n",
       "      <td>3005.0</td>\n",
       "      <td>58.601429</td>\n",
       "      <td>49.958333</td>\n",
       "      <td>55.180000</td>\n",
       "      <td>57.498000</td>\n",
       "      <td>36.400000</td>\n",
       "      <td>34.288000</td>\n",
       "      <td>...</td>\n",
       "      <td>58.972957</td>\n",
       "      <td>60.204676</td>\n",
       "      <td>59.749239</td>\n",
       "      <td>60.046940</td>\n",
       "      <td>59.129160</td>\n",
       "      <td>58.336298</td>\n",
       "      <td>41.438910</td>\n",
       "      <td>43.997400</td>\n",
       "      <td>42.144273</td>\n",
       "      <td>40.749239</td>\n",
       "    </tr>\n",
       "    <tr>\n",
       "      <th>1</th>\n",
       "      <td>B03</td>\n",
       "      <td>1584</td>\n",
       "      <td>51.303333</td>\n",
       "      <td>3005.0</td>\n",
       "      <td>51.303333</td>\n",
       "      <td>58.601429</td>\n",
       "      <td>49.958333</td>\n",
       "      <td>55.180000</td>\n",
       "      <td>57.498000</td>\n",
       "      <td>36.400000</td>\n",
       "      <td>...</td>\n",
       "      <td>51.410955</td>\n",
       "      <td>51.390096</td>\n",
       "      <td>52.427270</td>\n",
       "      <td>52.009043</td>\n",
       "      <td>45.289439</td>\n",
       "      <td>51.380811</td>\n",
       "      <td>41.434129</td>\n",
       "      <td>38.936036</td>\n",
       "      <td>39.479666</td>\n",
       "      <td>36.285854</td>\n",
       "    </tr>\n",
       "    <tr>\n",
       "      <th>2</th>\n",
       "      <td>B03</td>\n",
       "      <td>1586</td>\n",
       "      <td>52.490000</td>\n",
       "      <td>3005.0</td>\n",
       "      <td>52.490000</td>\n",
       "      <td>51.303333</td>\n",
       "      <td>58.601429</td>\n",
       "      <td>49.958333</td>\n",
       "      <td>55.180000</td>\n",
       "      <td>57.498000</td>\n",
       "      <td>...</td>\n",
       "      <td>52.450775</td>\n",
       "      <td>49.797090</td>\n",
       "      <td>50.588915</td>\n",
       "      <td>43.721340</td>\n",
       "      <td>42.978652</td>\n",
       "      <td>52.252922</td>\n",
       "      <td>42.515717</td>\n",
       "      <td>41.605275</td>\n",
       "      <td>37.866208</td>\n",
       "      <td>37.705310</td>\n",
       "    </tr>\n",
       "    <tr>\n",
       "      <th>3</th>\n",
       "      <td>B03</td>\n",
       "      <td>1587</td>\n",
       "      <td>53.040000</td>\n",
       "      <td>3005.0</td>\n",
       "      <td>53.040000</td>\n",
       "      <td>52.490000</td>\n",
       "      <td>51.303333</td>\n",
       "      <td>58.601429</td>\n",
       "      <td>49.958333</td>\n",
       "      <td>55.180000</td>\n",
       "      <td>...</td>\n",
       "      <td>53.637086</td>\n",
       "      <td>52.003098</td>\n",
       "      <td>48.653658</td>\n",
       "      <td>44.256918</td>\n",
       "      <td>44.782314</td>\n",
       "      <td>52.748160</td>\n",
       "      <td>41.212050</td>\n",
       "      <td>38.096370</td>\n",
       "      <td>38.635794</td>\n",
       "      <td>35.862426</td>\n",
       "    </tr>\n",
       "    <tr>\n",
       "      <th>4</th>\n",
       "      <td>B03</td>\n",
       "      <td>1591</td>\n",
       "      <td>58.120000</td>\n",
       "      <td>3005.0</td>\n",
       "      <td>58.120000</td>\n",
       "      <td>53.040000</td>\n",
       "      <td>52.490000</td>\n",
       "      <td>51.303333</td>\n",
       "      <td>58.601429</td>\n",
       "      <td>49.958333</td>\n",
       "      <td>...</td>\n",
       "      <td>57.526000</td>\n",
       "      <td>58.315193</td>\n",
       "      <td>56.747970</td>\n",
       "      <td>53.284637</td>\n",
       "      <td>51.439899</td>\n",
       "      <td>58.016873</td>\n",
       "      <td>45.747532</td>\n",
       "      <td>45.273896</td>\n",
       "      <td>39.202682</td>\n",
       "      <td>39.632278</td>\n",
       "    </tr>\n",
       "  </tbody>\n",
       "</table>\n",
       "<p>5 rows × 34 columns</p>\n",
       "</div>"
      ],
      "text/plain": [
       "  HACKANAME  TVDSS         GR  RES_ID   GR_lag_0   GR_lag_1   GR_lag_2  \\\n",
       "0       B03   1583  58.601429  3005.0  58.601429  49.958333  55.180000   \n",
       "1       B03   1584  51.303333  3005.0  51.303333  58.601429  49.958333   \n",
       "2       B03   1586  52.490000  3005.0  52.490000  51.303333  58.601429   \n",
       "3       B03   1587  53.040000  3005.0  53.040000  52.490000  51.303333   \n",
       "4       B03   1591  58.120000  3005.0  58.120000  53.040000  52.490000   \n",
       "\n",
       "    GR_lag_3   GR_lag_4   GR_lag_5         ...          GR_futr_0_pred_base  \\\n",
       "0  57.498000  36.400000  34.288000         ...                    58.972957   \n",
       "1  55.180000  57.498000  36.400000         ...                    51.410955   \n",
       "2  49.958333  55.180000  57.498000         ...                    52.450775   \n",
       "3  58.601429  49.958333  55.180000         ...                    53.637086   \n",
       "4  51.303333  58.601429  49.958333         ...                    57.526000   \n",
       "\n",
       "   GR_futr_1_pred_base  GR_futr_2_pred_base  GR_futr_3_pred_base  \\\n",
       "0            60.204676            59.749239            60.046940   \n",
       "1            51.390096            52.427270            52.009043   \n",
       "2            49.797090            50.588915            43.721340   \n",
       "3            52.003098            48.653658            44.256918   \n",
       "4            58.315193            56.747970            53.284637   \n",
       "\n",
       "   GR_futr_4_pred_base  GR_futr_0_pred_low  GR_futr_1_pred_low  \\\n",
       "0            59.129160           58.336298           41.438910   \n",
       "1            45.289439           51.380811           41.434129   \n",
       "2            42.978652           52.252922           42.515717   \n",
       "3            44.782314           52.748160           41.212050   \n",
       "4            51.439899           58.016873           45.747532   \n",
       "\n",
       "   GR_futr_2_pred_low  GR_futr_3_pred_low  GR_futr_4_pred_low  \n",
       "0           43.997400           42.144273           40.749239  \n",
       "1           38.936036           39.479666           36.285854  \n",
       "2           41.605275           37.866208           37.705310  \n",
       "3           38.096370           38.635794           35.862426  \n",
       "4           45.273896           39.202682           39.632278  \n",
       "\n",
       "[5 rows x 34 columns]"
      ]
     },
     "execution_count": 43,
     "metadata": {},
     "output_type": "execute_result"
    }
   ],
   "source": [
    "df_pred.head()"
   ]
  },
  {
   "cell_type": "code",
   "execution_count": 44,
   "metadata": {},
   "outputs": [
    {
     "data": {
      "text/html": [
       "<div>\n",
       "<style scoped>\n",
       "    .dataframe tbody tr th:only-of-type {\n",
       "        vertical-align: middle;\n",
       "    }\n",
       "\n",
       "    .dataframe tbody tr th {\n",
       "        vertical-align: top;\n",
       "    }\n",
       "\n",
       "    .dataframe thead th {\n",
       "        text-align: right;\n",
       "    }\n",
       "</style>\n",
       "<table border=\"1\" class=\"dataframe\">\n",
       "  <thead>\n",
       "    <tr style=\"text-align: right;\">\n",
       "      <th></th>\n",
       "      <th>HACKANAME</th>\n",
       "      <th>TVDSS_bit_depth</th>\n",
       "      <th>pred_col</th>\n",
       "      <th>value</th>\n",
       "      <th>offset</th>\n",
       "      <th>log_name</th>\n",
       "      <th>model_name</th>\n",
       "      <th>TVDSS</th>\n",
       "    </tr>\n",
       "  </thead>\n",
       "  <tbody>\n",
       "    <tr>\n",
       "      <th>0</th>\n",
       "      <td>B05</td>\n",
       "      <td>1800</td>\n",
       "      <td>GR_futr_0_pred_high</td>\n",
       "      <td>54.753956</td>\n",
       "      <td>0.0</td>\n",
       "      <td>GR</td>\n",
       "      <td>high</td>\n",
       "      <td>1800.0</td>\n",
       "    </tr>\n",
       "    <tr>\n",
       "      <th>1</th>\n",
       "      <td>B05</td>\n",
       "      <td>1800</td>\n",
       "      <td>GR_futr_1_pred_high</td>\n",
       "      <td>66.686692</td>\n",
       "      <td>1.0</td>\n",
       "      <td>GR</td>\n",
       "      <td>high</td>\n",
       "      <td>1801.0</td>\n",
       "    </tr>\n",
       "    <tr>\n",
       "      <th>2</th>\n",
       "      <td>B05</td>\n",
       "      <td>1800</td>\n",
       "      <td>GR_futr_2_pred_high</td>\n",
       "      <td>76.167211</td>\n",
       "      <td>2.0</td>\n",
       "      <td>GR</td>\n",
       "      <td>high</td>\n",
       "      <td>1802.0</td>\n",
       "    </tr>\n",
       "    <tr>\n",
       "      <th>3</th>\n",
       "      <td>B05</td>\n",
       "      <td>1800</td>\n",
       "      <td>GR_futr_3_pred_high</td>\n",
       "      <td>79.902964</td>\n",
       "      <td>3.0</td>\n",
       "      <td>GR</td>\n",
       "      <td>high</td>\n",
       "      <td>1803.0</td>\n",
       "    </tr>\n",
       "    <tr>\n",
       "      <th>4</th>\n",
       "      <td>B05</td>\n",
       "      <td>1800</td>\n",
       "      <td>GR_futr_4_pred_high</td>\n",
       "      <td>81.573401</td>\n",
       "      <td>4.0</td>\n",
       "      <td>GR</td>\n",
       "      <td>high</td>\n",
       "      <td>1804.0</td>\n",
       "    </tr>\n",
       "  </tbody>\n",
       "</table>\n",
       "</div>"
      ],
      "text/plain": [
       "  HACKANAME  TVDSS_bit_depth             pred_col      value  offset log_name  \\\n",
       "0       B05             1800  GR_futr_0_pred_high  54.753956     0.0       GR   \n",
       "1       B05             1800  GR_futr_1_pred_high  66.686692     1.0       GR   \n",
       "2       B05             1800  GR_futr_2_pred_high  76.167211     2.0       GR   \n",
       "3       B05             1800  GR_futr_3_pred_high  79.902964     3.0       GR   \n",
       "4       B05             1800  GR_futr_4_pred_high  81.573401     4.0       GR   \n",
       "\n",
       "  model_name   TVDSS  \n",
       "0       high  1800.0  \n",
       "1       high  1801.0  \n",
       "2       high  1802.0  \n",
       "3       high  1803.0  \n",
       "4       high  1804.0  "
      ]
     },
     "execution_count": 44,
     "metadata": {},
     "output_type": "execute_result"
    }
   ],
   "source": [
    "well_name = 'B05'\n",
    "bit_depth = 1800\n",
    "\n",
    "predictions = munging.get_log_predictions(df_pred, well_name, bit_depth)\n",
    "predictions.head()"
   ]
  },
  {
   "cell_type": "code",
   "execution_count": 45,
   "metadata": {},
   "outputs": [],
   "source": [
    "from ipywidgets import interact, interactive, fixed, interact_manual\n",
    "import ipywidgets as widgets"
   ]
  },
  {
   "cell_type": "code",
   "execution_count": 54,
   "metadata": {},
   "outputs": [],
   "source": [
    "tvds = [100, 101, 102]\n",
    "x_hi = [10, 13, 12]\n",
    "x_lo = [1, 2, 4]"
   ]
  },
  {
   "cell_type": "code",
   "execution_count": 65,
   "metadata": {},
   "outputs": [],
   "source": []
  },
  {
   "cell_type": "code",
   "execution_count": 66,
   "metadata": {},
   "outputs": [
    {
     "data": {
      "text/html": [
       "<div>\n",
       "<style scoped>\n",
       "    .dataframe tbody tr th:only-of-type {\n",
       "        vertical-align: middle;\n",
       "    }\n",
       "\n",
       "    .dataframe tbody tr th {\n",
       "        vertical-align: top;\n",
       "    }\n",
       "\n",
       "    .dataframe thead th {\n",
       "        text-align: right;\n",
       "    }\n",
       "</style>\n",
       "<table border=\"1\" class=\"dataframe\">\n",
       "  <thead>\n",
       "    <tr style=\"text-align: right;\">\n",
       "      <th></th>\n",
       "      <th>HACKANAME</th>\n",
       "      <th>TVDSS_bit_depth</th>\n",
       "      <th>pred_col</th>\n",
       "      <th>value</th>\n",
       "      <th>offset</th>\n",
       "      <th>log_name</th>\n",
       "      <th>model_name</th>\n",
       "      <th>TVDSS</th>\n",
       "    </tr>\n",
       "  </thead>\n",
       "  <tbody>\n",
       "    <tr>\n",
       "      <th>0</th>\n",
       "      <td>B05</td>\n",
       "      <td>1800</td>\n",
       "      <td>GR_futr_0_pred_high</td>\n",
       "      <td>54.753956</td>\n",
       "      <td>0.0</td>\n",
       "      <td>GR</td>\n",
       "      <td>high</td>\n",
       "      <td>1800.0</td>\n",
       "    </tr>\n",
       "    <tr>\n",
       "      <th>1</th>\n",
       "      <td>B05</td>\n",
       "      <td>1800</td>\n",
       "      <td>GR_futr_1_pred_high</td>\n",
       "      <td>66.686692</td>\n",
       "      <td>1.0</td>\n",
       "      <td>GR</td>\n",
       "      <td>high</td>\n",
       "      <td>1801.0</td>\n",
       "    </tr>\n",
       "    <tr>\n",
       "      <th>2</th>\n",
       "      <td>B05</td>\n",
       "      <td>1800</td>\n",
       "      <td>GR_futr_2_pred_high</td>\n",
       "      <td>76.167211</td>\n",
       "      <td>2.0</td>\n",
       "      <td>GR</td>\n",
       "      <td>high</td>\n",
       "      <td>1802.0</td>\n",
       "    </tr>\n",
       "    <tr>\n",
       "      <th>3</th>\n",
       "      <td>B05</td>\n",
       "      <td>1800</td>\n",
       "      <td>GR_futr_3_pred_high</td>\n",
       "      <td>79.902964</td>\n",
       "      <td>3.0</td>\n",
       "      <td>GR</td>\n",
       "      <td>high</td>\n",
       "      <td>1803.0</td>\n",
       "    </tr>\n",
       "    <tr>\n",
       "      <th>4</th>\n",
       "      <td>B05</td>\n",
       "      <td>1800</td>\n",
       "      <td>GR_futr_4_pred_high</td>\n",
       "      <td>81.573401</td>\n",
       "      <td>4.0</td>\n",
       "      <td>GR</td>\n",
       "      <td>high</td>\n",
       "      <td>1804.0</td>\n",
       "    </tr>\n",
       "  </tbody>\n",
       "</table>\n",
       "</div>"
      ],
      "text/plain": [
       "  HACKANAME  TVDSS_bit_depth             pred_col      value  offset log_name  \\\n",
       "0       B05             1800  GR_futr_0_pred_high  54.753956     0.0       GR   \n",
       "1       B05             1800  GR_futr_1_pred_high  66.686692     1.0       GR   \n",
       "2       B05             1800  GR_futr_2_pred_high  76.167211     2.0       GR   \n",
       "3       B05             1800  GR_futr_3_pred_high  79.902964     3.0       GR   \n",
       "4       B05             1800  GR_futr_4_pred_high  81.573401     4.0       GR   \n",
       "\n",
       "  model_name   TVDSS  \n",
       "0       high  1800.0  \n",
       "1       high  1801.0  \n",
       "2       high  1802.0  \n",
       "3       high  1803.0  \n",
       "4       high  1804.0  "
      ]
     },
     "execution_count": 66,
     "metadata": {},
     "output_type": "execute_result"
    }
   ],
   "source": [
    "predictions.head()"
   ]
  },
  {
   "cell_type": "code",
   "execution_count": 68,
   "metadata": {},
   "outputs": [
    {
     "data": {
      "text/plain": [
       "0    54.753956\n",
       "1    66.686692\n",
       "2    76.167211\n",
       "3    79.902964\n",
       "4    81.573401\n",
       "Name: value, dtype: float64"
      ]
     },
     "execution_count": 68,
     "metadata": {},
     "output_type": "execute_result"
    }
   ],
   "source": [
    "x_hi"
   ]
  },
  {
   "cell_type": "code",
   "execution_count": 82,
   "metadata": {},
   "outputs": [
    {
     "data": {
      "text/plain": [
       "(array([1800., 1801., 1802., 1803., 1804., 1804., 1803., 1802., 1801.,\n",
       "        1800.]),)"
      ]
     },
     "execution_count": 82,
     "metadata": {},
     "output_type": "execute_result"
    }
   ],
   "source": [
    "np.concatenate([x_lo, x_hi[::-1]]),\n",
    "np.concatenate([tvds, tvds[::-1]]),"
   ]
  },
  {
   "cell_type": "code",
   "execution_count": 97,
   "metadata": {},
   "outputs": [
    {
     "data": {
      "text/plain": [
       "Index(['PSEUDO_DEPTH', 'TEMP', 'CALI', 'GR', 'ILD', 'NPHI', 'RHOB', 'DT',\n",
       "       'TVD', 'TVDSS', 'VCL', 'PHIE', 'PHIT', 'SW', 'EF', 'PERFOS', 'RES_ID',\n",
       "       'WELL_ID', 'X', 'Y', 'HACKANAME'],\n",
       "      dtype='object')"
      ]
     },
     "execution_count": 97,
     "metadata": {},
     "output_type": "execute_result"
    }
   ],
   "source": [
    "df_logs.columns"
   ]
  },
  {
   "cell_type": "code",
   "execution_count": 101,
   "metadata": {},
   "outputs": [],
   "source": [
    "from sklearn.pipeline import make_pipeline\n",
    "from sklearn.preprocessing import RobustScaler\n",
    "from sklearn.cluster import KMeans\n",
    "\n",
    "pipe = make_pipeline(RobustScaler(), KMeans(n_clusters=4))\n",
    "\n",
    "X = df_logs[['GR', 'RHOB', 'NPHI']]\n",
    "\n",
    "cluster_id = pipe.fit_predict(X)\n",
    "df_logs['Facies'] = cluster_id\n",
    "df_logs['Facies'] = 'facies_' + df_logs['Facies'].astype(str)"
   ]
  },
  {
   "cell_type": "code",
   "execution_count": 102,
   "metadata": {},
   "outputs": [
    {
     "data": {
      "text/plain": [
       "array(['facies_1', 'facies_0', 'facies_2', 'facies_3'], dtype=object)"
      ]
     },
     "execution_count": 102,
     "metadata": {},
     "output_type": "execute_result"
    }
   ],
   "source": [
    "df_logs.Facies.unique()"
   ]
  },
  {
   "cell_type": "code",
   "execution_count": 104,
   "metadata": {},
   "outputs": [
    {
     "data": {
      "text/plain": [
       "<seaborn.axisgrid.FacetGrid at 0x19f02d071d0>"
      ]
     },
     "execution_count": 104,
     "metadata": {},
     "output_type": "execute_result"
    },
    {
     "data": {
      "image/png": "[encoded data removed]",
      "text/plain": [
       "<Figure size 436.875x360 with 1 Axes>"
      ]
     },
     "metadata": {},
     "output_type": "display_data"
    }
   ],
   "source": [
    "sns.lmplot('RHOB', 'NPHI', df_logs, hue='Facies', fit_reg=False)"
   ]
  },
  {
   "cell_type": "code",
   "execution_count": 93,
   "metadata": {},
   "outputs": [
    {
     "data": {
      "application/vnd.jupyter.widget-view+json": {
       "model_id": "1111c66c716d4b2ca448dc969cbfe126",
       "version_major": 2,
       "version_minor": 0
      },
      "text/plain": [
       "interactive(children=(IntSlider(value=1780, description='bit_depth', max=1800, min=1760), Output()), _dom_clas…"
      ]
     },
     "metadata": {},
     "output_type": "display_data"
    }
   ],
   "source": [
    "def add_predictions(ax, predictions):\n",
    "    \"\"\" Add predicted bands onto plt axes \"\"\"\n",
    "    \n",
    "    # Scatter plot\n",
    "    ax.scatter(predictions['value'], predictions['TVDSS'], marker='+')\n",
    "        \n",
    "    # Shaded bands\n",
    "    tvds = predictions[predictions.model_name == 'high']['TVDSS']\n",
    "    x_hi = predictions[predictions.model_name == 'high']['value']\n",
    "    x_lo = predictions[predictions.model_name == 'low']['value']\n",
    "\n",
    "    ax.fill(np.concatenate([x_lo, x_hi[::-1]]),\n",
    "            np.concatenate([tvds, tvds[::-1]]),\n",
    "            alpha=0.5)\n",
    "    \n",
    "    \n",
    "def plot_predictions(df_logs, df_pred, well_name, bit_depth):\n",
    "    try:\n",
    "        f, ax = plots.make_log_plot(df_logs, well_name)\n",
    "        predictions = munging.get_log_predictions(df_pred, well_name, bit_depth)\n",
    "        \n",
    "        add_predictions(ax[0], predictions)\n",
    "        \n",
    "        for axs in ax:\n",
    "            axs.set_ylim(1800, 1760)\n",
    "        plt.show()\n",
    "        \n",
    "        print('updated')\n",
    "        \n",
    "    except AssertionError:\n",
    "        f, ax = plots.make_log_plot(df_logs, well_name)\n",
    "        print('no predictions found at this depth in this well')\n",
    "\n",
    "\n",
    "interact(plot_predictions, df_logs=fixed(df_logs), df_pred=fixed(df_pred),\n",
    "         well_name=fixed(well_name), bit_depth=(1760, 1800, 1));"
   ]
  },
  {
   "cell_type": "code",
   "execution_count": 16,
   "metadata": {},
   "outputs": [
    {
     "data": {
      "text/plain": [
       "<matplotlib.collections.PathCollection at 0x21676ae0978>"
      ]
     },
     "execution_count": 16,
     "metadata": {},
     "output_type": "execute_result"
    },
    {
     "data": {
      "image/png": "[encoded data removed]",
      "text/plain": [
       "<Figure size 576x864 with 3 Axes>"
      ]
     },
     "metadata": {},
     "output_type": "display_data"
    }
   ],
   "source": [
    "f, ax = plots.make_log_plot(df_logs, 'B05')\n",
    "ax[0].scatter(predictions['value'], predictions['TVDSS'], marker='+')"
   ]
  },
  {
   "cell_type": "code",
   "execution_count": null,
   "metadata": {},
   "outputs": [],
   "source": []
  }
 ],
 "metadata": {
  "kernelspec": {
   "display_name": "mysticbit",
   "language": "python",
   "name": "mysticbit"
  },
  "language_info": {
   "codemirror_mode": {
    "name": "ipython",
    "version": 3
   },
   "file_extension": ".py",
   "mimetype": "text/x-python",
   "name": "python",
   "nbconvert_exporter": "python",
   "pygments_lexer": "ipython3",
   "version": "3.6.5"
  }
 },
 "nbformat": 4,
 "nbformat_minor": 2
}
