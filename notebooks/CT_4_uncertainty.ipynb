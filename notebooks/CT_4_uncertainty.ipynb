{
 "cells": [
  {
   "cell_type": "markdown",
   "metadata": {},
   "source": [
    "## Log data munging and EDA\n",
    "\n",
    "Just getting set up, testing"
   ]
  },
  {
   "cell_type": "code",
   "execution_count": 9,
   "metadata": {},
   "outputs": [],
   "source": [
    "import pandas as pd\n",
    "import numpy as np\n",
    "from ipywidgets import interact, interactive, fixed, interact_manual\n",
    "import ipywidgets as widgets\n",
    "import seaborn as sns\n",
    "import matplotlib.pyplot as plt\n",
    "%matplotlib inline"
   ]
  },
  {
   "cell_type": "code",
   "execution_count": 2,
   "metadata": {},
   "outputs": [
    {
     "name": "stdout",
     "output_type": "stream",
     "text": [
      "Do you really want to drill me?\n",
      "Do you really want to make me cry\n",
      "AH AH AH AH\n"
     ]
    }
   ],
   "source": [
    "import sys\n",
    "sys.path.insert(0,'../')\n",
    "\n",
    "import mysticbit\n",
    "from mysticbit import munging, ml, plots"
   ]
  },
  {
   "cell_type": "code",
   "execution_count": 3,
   "metadata": {},
   "outputs": [
    {
     "name": "stdout",
     "output_type": "stream",
     "text": [
      "Train well:  {'G08', 'B0700', 'G09', 'G15', 'B13', 'G06', 'G16', 'B12', 'G10', 'B08', 'B200', 'B14', 'G070', 'G17', 'G12'}\n",
      "Test wells:  {'B03', 'B06', 'B05'}\n"
     ]
    }
   ],
   "source": [
    "df_logs = munging.load_log_data()\n",
    "\n",
    "df_ml = munging.create_ml_dataframe(df_logs, feature_lags = range(10), label_lags = range(5))\n",
    "\n",
    "df_ml_train, df_ml_test = ml.train_test_split(df_ml)"
   ]
  },
  {
   "cell_type": "code",
   "execution_count": 4,
   "metadata": {},
   "outputs": [
    {
     "name": "stdout",
     "output_type": "stream",
     "text": [
      "X cols:  ['GR_lag_0', 'GR_lag_1', 'GR_lag_2', 'GR_lag_3', 'GR_lag_4', 'GR_lag_5', 'GR_lag_6', 'GR_lag_7', 'GR_lag_8', 'GR_lag_9']\n",
      "y cols:  ['GR_futr_0', 'GR_futr_1', 'GR_futr_2', 'GR_futr_3', 'GR_futr_4']\n"
     ]
    }
   ],
   "source": [
    "X_cols = [c for c in df_ml_train.columns if 'lag' in c]\n",
    "y_cols = [c for c in df_ml_train.columns if 'futr' in c]\n",
    "\n",
    "print('X cols: ', X_cols)\n",
    "print('y cols: ', y_cols)"
   ]
  },
  {
   "cell_type": "code",
   "execution_count": 5,
   "metadata": {},
   "outputs": [],
   "source": [
    "models = ml.make_multiple_models(df_ml_train, X_cols, y_cols)"
   ]
  },
  {
   "cell_type": "code",
   "execution_count": 6,
   "metadata": {},
   "outputs": [],
   "source": [
    "df_pred = ml.make_predictions(models, df_ml, X_cols, y_cols)"
   ]
  },
  {
   "cell_type": "code",
   "execution_count": 7,
   "metadata": {},
   "outputs": [
    {
     "data": {
      "text/html": [
       "<div>\n",
       "<style scoped>\n",
       "    .dataframe tbody tr th:only-of-type {\n",
       "        vertical-align: middle;\n",
       "    }\n",
       "\n",
       "    .dataframe tbody tr th {\n",
       "        vertical-align: top;\n",
       "    }\n",
       "\n",
       "    .dataframe thead th {\n",
       "        text-align: right;\n",
       "    }\n",
       "</style>\n",
       "<table border=\"1\" class=\"dataframe\">\n",
       "  <thead>\n",
       "    <tr style=\"text-align: right;\">\n",
       "      <th></th>\n",
       "      <th>HACKANAME</th>\n",
       "      <th>TVDSS</th>\n",
       "      <th>RES_ID</th>\n",
       "      <th>GR</th>\n",
       "      <th>GR_lag_0</th>\n",
       "      <th>GR_lag_1</th>\n",
       "      <th>GR_lag_2</th>\n",
       "      <th>GR_lag_3</th>\n",
       "      <th>GR_lag_4</th>\n",
       "      <th>GR_lag_5</th>\n",
       "      <th>...</th>\n",
       "      <th>GR_futr_0_pred_base</th>\n",
       "      <th>GR_futr_1_pred_base</th>\n",
       "      <th>GR_futr_2_pred_base</th>\n",
       "      <th>GR_futr_3_pred_base</th>\n",
       "      <th>GR_futr_4_pred_base</th>\n",
       "      <th>GR_futr_0_pred_low</th>\n",
       "      <th>GR_futr_1_pred_low</th>\n",
       "      <th>GR_futr_2_pred_low</th>\n",
       "      <th>GR_futr_3_pred_low</th>\n",
       "      <th>GR_futr_4_pred_low</th>\n",
       "    </tr>\n",
       "  </thead>\n",
       "  <tbody>\n",
       "    <tr>\n",
       "      <th>0</th>\n",
       "      <td>B03</td>\n",
       "      <td>1583</td>\n",
       "      <td>3005.0</td>\n",
       "      <td>58.601429</td>\n",
       "      <td>58.601429</td>\n",
       "      <td>49.958333</td>\n",
       "      <td>55.180000</td>\n",
       "      <td>57.498000</td>\n",
       "      <td>36.400000</td>\n",
       "      <td>34.288000</td>\n",
       "      <td>...</td>\n",
       "      <td>58.974116</td>\n",
       "      <td>60.612389</td>\n",
       "      <td>59.645041</td>\n",
       "      <td>60.036796</td>\n",
       "      <td>59.107350</td>\n",
       "      <td>58.336405</td>\n",
       "      <td>41.964820</td>\n",
       "      <td>43.897251</td>\n",
       "      <td>42.100310</td>\n",
       "      <td>41.020944</td>\n",
       "    </tr>\n",
       "    <tr>\n",
       "      <th>1</th>\n",
       "      <td>B03</td>\n",
       "      <td>1584</td>\n",
       "      <td>3005.0</td>\n",
       "      <td>51.303333</td>\n",
       "      <td>51.303333</td>\n",
       "      <td>58.601429</td>\n",
       "      <td>49.958333</td>\n",
       "      <td>55.180000</td>\n",
       "      <td>57.498000</td>\n",
       "      <td>36.400000</td>\n",
       "      <td>...</td>\n",
       "      <td>51.412114</td>\n",
       "      <td>51.004935</td>\n",
       "      <td>52.379788</td>\n",
       "      <td>53.136031</td>\n",
       "      <td>44.845141</td>\n",
       "      <td>51.380918</td>\n",
       "      <td>41.077510</td>\n",
       "      <td>38.855483</td>\n",
       "      <td>39.387824</td>\n",
       "      <td>36.990107</td>\n",
       "    </tr>\n",
       "    <tr>\n",
       "      <th>2</th>\n",
       "      <td>B03</td>\n",
       "      <td>1586</td>\n",
       "      <td>3005.0</td>\n",
       "      <td>52.490000</td>\n",
       "      <td>52.490000</td>\n",
       "      <td>51.303333</td>\n",
       "      <td>58.601429</td>\n",
       "      <td>49.958333</td>\n",
       "      <td>55.180000</td>\n",
       "      <td>57.498000</td>\n",
       "      <td>...</td>\n",
       "      <td>52.448489</td>\n",
       "      <td>49.824650</td>\n",
       "      <td>50.388630</td>\n",
       "      <td>43.657371</td>\n",
       "      <td>41.661687</td>\n",
       "      <td>52.256301</td>\n",
       "      <td>43.354537</td>\n",
       "      <td>41.544542</td>\n",
       "      <td>38.124245</td>\n",
       "      <td>37.053815</td>\n",
       "    </tr>\n",
       "    <tr>\n",
       "      <th>3</th>\n",
       "      <td>B03</td>\n",
       "      <td>1587</td>\n",
       "      <td>3005.0</td>\n",
       "      <td>53.040000</td>\n",
       "      <td>53.040000</td>\n",
       "      <td>52.490000</td>\n",
       "      <td>51.303333</td>\n",
       "      <td>58.601429</td>\n",
       "      <td>49.958333</td>\n",
       "      <td>55.180000</td>\n",
       "      <td>...</td>\n",
       "      <td>53.634800</td>\n",
       "      <td>52.477318</td>\n",
       "      <td>48.510513</td>\n",
       "      <td>44.979255</td>\n",
       "      <td>44.110772</td>\n",
       "      <td>52.748267</td>\n",
       "      <td>41.363203</td>\n",
       "      <td>38.189203</td>\n",
       "      <td>38.654635</td>\n",
       "      <td>36.371405</td>\n",
       "    </tr>\n",
       "    <tr>\n",
       "      <th>4</th>\n",
       "      <td>B03</td>\n",
       "      <td>1591</td>\n",
       "      <td>3005.0</td>\n",
       "      <td>58.120000</td>\n",
       "      <td>58.120000</td>\n",
       "      <td>53.040000</td>\n",
       "      <td>52.490000</td>\n",
       "      <td>51.303333</td>\n",
       "      <td>58.601429</td>\n",
       "      <td>49.958333</td>\n",
       "      <td>...</td>\n",
       "      <td>57.527159</td>\n",
       "      <td>58.261064</td>\n",
       "      <td>56.546169</td>\n",
       "      <td>53.293625</td>\n",
       "      <td>53.011117</td>\n",
       "      <td>58.016980</td>\n",
       "      <td>45.468801</td>\n",
       "      <td>44.897491</td>\n",
       "      <td>39.110197</td>\n",
       "      <td>38.997609</td>\n",
       "    </tr>\n",
       "  </tbody>\n",
       "</table>\n",
       "<p>5 rows × 34 columns</p>\n",
       "</div>"
      ],
      "text/plain": [
       "  HACKANAME  TVDSS  RES_ID         GR   GR_lag_0   GR_lag_1   GR_lag_2  \\\n",
       "0       B03   1583  3005.0  58.601429  58.601429  49.958333  55.180000   \n",
       "1       B03   1584  3005.0  51.303333  51.303333  58.601429  49.958333   \n",
       "2       B03   1586  3005.0  52.490000  52.490000  51.303333  58.601429   \n",
       "3       B03   1587  3005.0  53.040000  53.040000  52.490000  51.303333   \n",
       "4       B03   1591  3005.0  58.120000  58.120000  53.040000  52.490000   \n",
       "\n",
       "    GR_lag_3   GR_lag_4   GR_lag_5         ...          GR_futr_0_pred_base  \\\n",
       "0  57.498000  36.400000  34.288000         ...                    58.974116   \n",
       "1  55.180000  57.498000  36.400000         ...                    51.412114   \n",
       "2  49.958333  55.180000  57.498000         ...                    52.448489   \n",
       "3  58.601429  49.958333  55.180000         ...                    53.634800   \n",
       "4  51.303333  58.601429  49.958333         ...                    57.527159   \n",
       "\n",
       "   GR_futr_1_pred_base  GR_futr_2_pred_base  GR_futr_3_pred_base  \\\n",
       "0            60.612389            59.645041            60.036796   \n",
       "1            51.004935            52.379788            53.136031   \n",
       "2            49.824650            50.388630            43.657371   \n",
       "3            52.477318            48.510513            44.979255   \n",
       "4            58.261064            56.546169            53.293625   \n",
       "\n",
       "   GR_futr_4_pred_base  GR_futr_0_pred_low  GR_futr_1_pred_low  \\\n",
       "0            59.107350           58.336405           41.964820   \n",
       "1            44.845141           51.380918           41.077510   \n",
       "2            41.661687           52.256301           43.354537   \n",
       "3            44.110772           52.748267           41.363203   \n",
       "4            53.011117           58.016980           45.468801   \n",
       "\n",
       "   GR_futr_2_pred_low  GR_futr_3_pred_low  GR_futr_4_pred_low  \n",
       "0           43.897251           42.100310           41.020944  \n",
       "1           38.855483           39.387824           36.990107  \n",
       "2           41.544542           38.124245           37.053815  \n",
       "3           38.189203           38.654635           36.371405  \n",
       "4           44.897491           39.110197           38.997609  \n",
       "\n",
       "[5 rows x 34 columns]"
      ]
     },
     "execution_count": 7,
     "metadata": {},
     "output_type": "execute_result"
    }
   ],
   "source": [
    "df_pred.head()"
   ]
  },
  {
   "cell_type": "code",
   "execution_count": 8,
   "metadata": {},
   "outputs": [
    {
     "data": {
      "text/html": [
       "<div>\n",
       "<style scoped>\n",
       "    .dataframe tbody tr th:only-of-type {\n",
       "        vertical-align: middle;\n",
       "    }\n",
       "\n",
       "    .dataframe tbody tr th {\n",
       "        vertical-align: top;\n",
       "    }\n",
       "\n",
       "    .dataframe thead th {\n",
       "        text-align: right;\n",
       "    }\n",
       "</style>\n",
       "<table border=\"1\" class=\"dataframe\">\n",
       "  <thead>\n",
       "    <tr style=\"text-align: right;\">\n",
       "      <th></th>\n",
       "      <th>HACKANAME</th>\n",
       "      <th>TVDSS_bit_depth</th>\n",
       "      <th>pred_col</th>\n",
       "      <th>value</th>\n",
       "      <th>offset</th>\n",
       "      <th>log_name</th>\n",
       "      <th>model_name</th>\n",
       "      <th>TVDSS</th>\n",
       "    </tr>\n",
       "  </thead>\n",
       "  <tbody>\n",
       "    <tr>\n",
       "      <th>0</th>\n",
       "      <td>B05</td>\n",
       "      <td>1800</td>\n",
       "      <td>GR_futr_0_pred_high</td>\n",
       "      <td>54.753956</td>\n",
       "      <td>0.0</td>\n",
       "      <td>GR</td>\n",
       "      <td>high</td>\n",
       "      <td>1800.0</td>\n",
       "    </tr>\n",
       "    <tr>\n",
       "      <th>1</th>\n",
       "      <td>B05</td>\n",
       "      <td>1800</td>\n",
       "      <td>GR_futr_1_pred_high</td>\n",
       "      <td>67.161374</td>\n",
       "      <td>1.0</td>\n",
       "      <td>GR</td>\n",
       "      <td>high</td>\n",
       "      <td>1801.0</td>\n",
       "    </tr>\n",
       "    <tr>\n",
       "      <th>2</th>\n",
       "      <td>B05</td>\n",
       "      <td>1800</td>\n",
       "      <td>GR_futr_2_pred_high</td>\n",
       "      <td>76.197768</td>\n",
       "      <td>2.0</td>\n",
       "      <td>GR</td>\n",
       "      <td>high</td>\n",
       "      <td>1802.0</td>\n",
       "    </tr>\n",
       "    <tr>\n",
       "      <th>3</th>\n",
       "      <td>B05</td>\n",
       "      <td>1800</td>\n",
       "      <td>GR_futr_3_pred_high</td>\n",
       "      <td>79.911951</td>\n",
       "      <td>3.0</td>\n",
       "      <td>GR</td>\n",
       "      <td>high</td>\n",
       "      <td>1803.0</td>\n",
       "    </tr>\n",
       "    <tr>\n",
       "      <th>4</th>\n",
       "      <td>B05</td>\n",
       "      <td>1800</td>\n",
       "      <td>GR_futr_4_pred_high</td>\n",
       "      <td>81.537620</td>\n",
       "      <td>4.0</td>\n",
       "      <td>GR</td>\n",
       "      <td>high</td>\n",
       "      <td>1804.0</td>\n",
       "    </tr>\n",
       "  </tbody>\n",
       "</table>\n",
       "</div>"
      ],
      "text/plain": [
       "  HACKANAME  TVDSS_bit_depth             pred_col      value  offset log_name  \\\n",
       "0       B05             1800  GR_futr_0_pred_high  54.753956     0.0       GR   \n",
       "1       B05             1800  GR_futr_1_pred_high  67.161374     1.0       GR   \n",
       "2       B05             1800  GR_futr_2_pred_high  76.197768     2.0       GR   \n",
       "3       B05             1800  GR_futr_3_pred_high  79.911951     3.0       GR   \n",
       "4       B05             1800  GR_futr_4_pred_high  81.537620     4.0       GR   \n",
       "\n",
       "  model_name   TVDSS  \n",
       "0       high  1800.0  \n",
       "1       high  1801.0  \n",
       "2       high  1802.0  \n",
       "3       high  1803.0  \n",
       "4       high  1804.0  "
      ]
     },
     "execution_count": 8,
     "metadata": {},
     "output_type": "execute_result"
    }
   ],
   "source": [
    "well_name = 'B05'\n",
    "bit_depth = 1800\n",
    "\n",
    "predictions = munging.get_log_predictions(df_pred, well_name, bit_depth)\n",
    "predictions.head()"
   ]
  },
  {
   "cell_type": "code",
   "execution_count": 10,
   "metadata": {},
   "outputs": [
    {
     "data": {
      "application/vnd.jupyter.widget-view+json": {
       "model_id": "24f7e6a3f14b4af8b4e928a78abdf7b2",
       "version_major": 2,
       "version_minor": 0
      },
      "text/plain": [
       "interactive(children=(IntSlider(value=1780, description='bit_depth', max=1800, min=1760), Output()), _dom_clas…"
      ]
     },
     "metadata": {},
     "output_type": "display_data"
    }
   ],
   "source": [
    " \n",
    "def plot_predictions(df_logs, df_pred, well_name, bit_depth):\n",
    "    try:\n",
    "        f, ax = plots.make_log_plot(df_logs, well_name)\n",
    "        predictions = munging.get_log_predictions(df_pred, well_name, bit_depth)\n",
    "        \n",
    "        plots.add_predictions(ax[0], predictions)\n",
    "        \n",
    "        for axs in ax:\n",
    "            axs.set_ylim(1800, 1760)\n",
    "        plt.show()\n",
    "        \n",
    "        print('updated')\n",
    "        \n",
    "    except AssertionError:\n",
    "        f, ax = plots.make_log_plot(df_logs, well_name)\n",
    "        print('no predictions found at this depth in this well')\n",
    "\n",
    "\n",
    "interact(plot_predictions, df_logs=fixed(df_logs), df_pred=fixed(df_pred),\n",
    "         well_name=fixed(well_name), bit_depth=(1760, 1800, 1));"
   ]
  },
  {
   "cell_type": "code",
   "execution_count": 16,
   "metadata": {},
   "outputs": [
    {
     "data": {
      "text/plain": [
       "<matplotlib.collections.PathCollection at 0x21676ae0978>"
      ]
     },
     "execution_count": 16,
     "metadata": {},
     "output_type": "execute_result"
    },
    {
     "data": {
      "image/png": "[encoded data removed]",
      "text/plain": [
       "<Figure size 576x864 with 3 Axes>"
      ]
     },
     "metadata": {},
     "output_type": "display_data"
    }
   ],
   "source": [
    "f, ax = plots.make_log_plot(df_logs, 'B05')\n",
    "ax[0].scatter(predictions['value'], predictions['TVDSS'], marker='+')"
   ]
  },
  {
   "cell_type": "code",
   "execution_count": null,
   "metadata": {},
   "outputs": [],
   "source": []
  }
 ],
 "metadata": {
  "kernelspec": {
   "display_name": "mysticbit",
   "language": "python",
   "name": "mysticbit"
  },
  "language_info": {
   "codemirror_mode": {
    "name": "ipython",
    "version": 3
   },
   "file_extension": ".py",
   "mimetype": "text/x-python",
   "name": "python",
   "nbconvert_exporter": "python",
   "pygments_lexer": "ipython3",
   "version": "3.6.5"
  }
 },
 "nbformat": 4,
 "nbformat_minor": 2
}
