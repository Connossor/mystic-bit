{
 "cells": [
  {
   "cell_type": "markdown",
   "metadata": {},
   "source": [
    "## Log data munging and EDA\n",
    "\n",
    "Just getting set up, testing"
   ]
  },
  {
   "cell_type": "code",
   "execution_count": 1,
   "metadata": {
    "collapsed": true
   },
   "outputs": [],
   "source": [
    "import pandas as pd\n",
    "import numpy as np\n",
    "from ipywidgets import interact, interactive, fixed, interact_manual\n",
    "import ipywidgets as widgets\n",
    "import seaborn as sns\n",
    "import matplotlib.pyplot as plt\n",
    "%matplotlib inline"
   ]
  },
  {
   "cell_type": "code",
   "execution_count": 2,
   "metadata": {},
   "outputs": [
    {
     "name": "stdout",
     "output_type": "stream",
     "text": [
      "Do you really want to drill me?\n",
      "Do you really want to make me cry\n",
      "AH AH AH AH\n"
     ]
    }
   ],
   "source": [
    "import sys\n",
    "sys.path.insert(0,'../')\n",
    "\n",
    "import mysticbit\n",
    "from mysticbit import munging, ml, plots"
   ]
  },
  {
   "cell_type": "code",
   "execution_count": 3,
   "metadata": {},
   "outputs": [
    {
     "name": "stdout",
     "output_type": "stream",
     "text": [
      "Train well:  {'G09', 'B13', 'B14', 'B08', 'G12', 'G17', 'B12', 'G16', 'G06', 'G08', 'G15', 'B0700', 'B200', 'G10', 'G070'}\n",
      "Test wells:  {'B03', 'B05', 'B06'}\n"
     ]
    }
   ],
   "source": [
    "df_logs = munging.load_log_data()\n",
    "\n",
    "df_ml = munging.create_ml_dataframe(df_logs, feature_lags = range(10), label_lags = range(5))\n",
    "\n",
    "df_ml_train, df_ml_test = ml.train_test_split(df_ml)"
   ]
  },
  {
   "cell_type": "code",
   "execution_count": 4,
   "metadata": {},
   "outputs": [
    {
     "name": "stdout",
     "output_type": "stream",
     "text": [
      "X cols:  ['GR_lag_0', 'GR_lag_1', 'GR_lag_2', 'GR_lag_3', 'GR_lag_4', 'GR_lag_5', 'GR_lag_6', 'GR_lag_7', 'GR_lag_8', 'GR_lag_9']\n",
      "y cols:  ['GR_futr_0', 'GR_futr_1', 'GR_futr_2', 'GR_futr_3', 'GR_futr_4']\n"
     ]
    }
   ],
   "source": [
    "X_cols = [c for c in df_ml_train.columns if 'lag' in c]\n",
    "y_cols = [c for c in df_ml_train.columns if 'futr' in c]\n",
    "\n",
    "print('X cols: ', X_cols)\n",
    "print('y cols: ', y_cols)"
   ]
  },
  {
   "cell_type": "code",
   "execution_count": 5,
   "metadata": {
    "collapsed": true
   },
   "outputs": [],
   "source": [
    "models = ml.make_multiple_models(df_ml_train, X_cols, y_cols)"
   ]
  },
  {
   "cell_type": "code",
   "execution_count": 6,
   "metadata": {
    "collapsed": true
   },
   "outputs": [],
   "source": [
    "df_pred = ml.make_predictions(models, df_ml, X_cols, y_cols)"
   ]
  },
  {
   "cell_type": "code",
   "execution_count": 7,
   "metadata": {},
   "outputs": [
    {
     "data": {
      "text/html": [
       "<div>\n",
       "<style scoped>\n",
       "    .dataframe tbody tr th:only-of-type {\n",
       "        vertical-align: middle;\n",
       "    }\n",
       "\n",
       "    .dataframe tbody tr th {\n",
       "        vertical-align: top;\n",
       "    }\n",
       "\n",
       "    .dataframe thead th {\n",
       "        text-align: right;\n",
       "    }\n",
       "</style>\n",
       "<table border=\"1\" class=\"dataframe\">\n",
       "  <thead>\n",
       "    <tr style=\"text-align: right;\">\n",
       "      <th></th>\n",
       "      <th>TVDSS</th>\n",
       "      <th>HACKANAME</th>\n",
       "      <th>RES_ID</th>\n",
       "      <th>GR</th>\n",
       "      <th>GR_lag_0</th>\n",
       "      <th>GR_lag_1</th>\n",
       "      <th>GR_lag_2</th>\n",
       "      <th>GR_lag_3</th>\n",
       "      <th>GR_lag_4</th>\n",
       "      <th>GR_lag_5</th>\n",
       "      <th>...</th>\n",
       "      <th>GR_futr_0_pred_base</th>\n",
       "      <th>GR_futr_1_pred_base</th>\n",
       "      <th>GR_futr_2_pred_base</th>\n",
       "      <th>GR_futr_3_pred_base</th>\n",
       "      <th>GR_futr_4_pred_base</th>\n",
       "      <th>GR_futr_0_pred_low</th>\n",
       "      <th>GR_futr_1_pred_low</th>\n",
       "      <th>GR_futr_2_pred_low</th>\n",
       "      <th>GR_futr_3_pred_low</th>\n",
       "      <th>GR_futr_4_pred_low</th>\n",
       "    </tr>\n",
       "  </thead>\n",
       "  <tbody>\n",
       "    <tr>\n",
       "      <th>12</th>\n",
       "      <td>1568.4</td>\n",
       "      <td>B03</td>\n",
       "      <td>3005.0</td>\n",
       "      <td>36.68</td>\n",
       "      <td>36.68</td>\n",
       "      <td>39.76</td>\n",
       "      <td>48.13</td>\n",
       "      <td>48.13</td>\n",
       "      <td>50.206667</td>\n",
       "      <td>52.283333</td>\n",
       "      <td>...</td>\n",
       "      <td>36.551403</td>\n",
       "      <td>35.919242</td>\n",
       "      <td>36.693345</td>\n",
       "      <td>37.090855</td>\n",
       "      <td>38.164725</td>\n",
       "      <td>36.115259</td>\n",
       "      <td>35.642161</td>\n",
       "      <td>34.448244</td>\n",
       "      <td>34.814144</td>\n",
       "      <td>33.240164</td>\n",
       "    </tr>\n",
       "    <tr>\n",
       "      <th>13</th>\n",
       "      <td>1568.6</td>\n",
       "      <td>B03</td>\n",
       "      <td>3005.0</td>\n",
       "      <td>32.18</td>\n",
       "      <td>32.18</td>\n",
       "      <td>36.68</td>\n",
       "      <td>39.76</td>\n",
       "      <td>48.13</td>\n",
       "      <td>48.130000</td>\n",
       "      <td>50.206667</td>\n",
       "      <td>...</td>\n",
       "      <td>32.066622</td>\n",
       "      <td>32.727182</td>\n",
       "      <td>32.257074</td>\n",
       "      <td>33.458360</td>\n",
       "      <td>32.877335</td>\n",
       "      <td>32.196095</td>\n",
       "      <td>31.340647</td>\n",
       "      <td>29.940841</td>\n",
       "      <td>29.419546</td>\n",
       "      <td>29.121877</td>\n",
       "    </tr>\n",
       "    <tr>\n",
       "      <th>14</th>\n",
       "      <td>1568.8</td>\n",
       "      <td>B03</td>\n",
       "      <td>3005.0</td>\n",
       "      <td>31.90</td>\n",
       "      <td>31.90</td>\n",
       "      <td>32.18</td>\n",
       "      <td>36.68</td>\n",
       "      <td>39.76</td>\n",
       "      <td>48.130000</td>\n",
       "      <td>48.130000</td>\n",
       "      <td>...</td>\n",
       "      <td>31.785758</td>\n",
       "      <td>32.227352</td>\n",
       "      <td>32.257074</td>\n",
       "      <td>32.936904</td>\n",
       "      <td>32.786115</td>\n",
       "      <td>30.917095</td>\n",
       "      <td>30.494934</td>\n",
       "      <td>29.940841</td>\n",
       "      <td>29.825603</td>\n",
       "      <td>29.276685</td>\n",
       "    </tr>\n",
       "    <tr>\n",
       "      <th>15</th>\n",
       "      <td>1569.0</td>\n",
       "      <td>B03</td>\n",
       "      <td>3005.0</td>\n",
       "      <td>35.10</td>\n",
       "      <td>35.10</td>\n",
       "      <td>31.90</td>\n",
       "      <td>32.18</td>\n",
       "      <td>36.68</td>\n",
       "      <td>39.760000</td>\n",
       "      <td>48.130000</td>\n",
       "      <td>...</td>\n",
       "      <td>34.943178</td>\n",
       "      <td>35.955328</td>\n",
       "      <td>35.852828</td>\n",
       "      <td>34.981608</td>\n",
       "      <td>36.981288</td>\n",
       "      <td>34.814395</td>\n",
       "      <td>33.731273</td>\n",
       "      <td>32.910660</td>\n",
       "      <td>33.951594</td>\n",
       "      <td>32.752714</td>\n",
       "    </tr>\n",
       "    <tr>\n",
       "      <th>16</th>\n",
       "      <td>1569.2</td>\n",
       "      <td>B03</td>\n",
       "      <td>3005.0</td>\n",
       "      <td>42.44</td>\n",
       "      <td>42.44</td>\n",
       "      <td>35.10</td>\n",
       "      <td>31.90</td>\n",
       "      <td>32.18</td>\n",
       "      <td>36.680000</td>\n",
       "      <td>39.760000</td>\n",
       "      <td>...</td>\n",
       "      <td>42.207254</td>\n",
       "      <td>42.814183</td>\n",
       "      <td>44.102335</td>\n",
       "      <td>45.486886</td>\n",
       "      <td>46.413498</td>\n",
       "      <td>42.077399</td>\n",
       "      <td>40.138586</td>\n",
       "      <td>39.071629</td>\n",
       "      <td>38.109498</td>\n",
       "      <td>37.385537</td>\n",
       "    </tr>\n",
       "  </tbody>\n",
       "</table>\n",
       "<p>5 rows × 34 columns</p>\n",
       "</div>"
      ],
      "text/plain": [
       "     TVDSS HACKANAME  RES_ID     GR  GR_lag_0  GR_lag_1  GR_lag_2  GR_lag_3  \\\n",
       "12  1568.4       B03  3005.0  36.68     36.68     39.76     48.13     48.13   \n",
       "13  1568.6       B03  3005.0  32.18     32.18     36.68     39.76     48.13   \n",
       "14  1568.8       B03  3005.0  31.90     31.90     32.18     36.68     39.76   \n",
       "15  1569.0       B03  3005.0  35.10     35.10     31.90     32.18     36.68   \n",
       "16  1569.2       B03  3005.0  42.44     42.44     35.10     31.90     32.18   \n",
       "\n",
       "     GR_lag_4   GR_lag_5         ...          GR_futr_0_pred_base  \\\n",
       "12  50.206667  52.283333         ...                    36.551403   \n",
       "13  48.130000  50.206667         ...                    32.066622   \n",
       "14  48.130000  48.130000         ...                    31.785758   \n",
       "15  39.760000  48.130000         ...                    34.943178   \n",
       "16  36.680000  39.760000         ...                    42.207254   \n",
       "\n",
       "    GR_futr_1_pred_base  GR_futr_2_pred_base  GR_futr_3_pred_base  \\\n",
       "12            35.919242            36.693345            37.090855   \n",
       "13            32.727182            32.257074            33.458360   \n",
       "14            32.227352            32.257074            32.936904   \n",
       "15            35.955328            35.852828            34.981608   \n",
       "16            42.814183            44.102335            45.486886   \n",
       "\n",
       "    GR_futr_4_pred_base  GR_futr_0_pred_low  GR_futr_1_pred_low  \\\n",
       "12            38.164725           36.115259           35.642161   \n",
       "13            32.877335           32.196095           31.340647   \n",
       "14            32.786115           30.917095           30.494934   \n",
       "15            36.981288           34.814395           33.731273   \n",
       "16            46.413498           42.077399           40.138586   \n",
       "\n",
       "    GR_futr_2_pred_low  GR_futr_3_pred_low  GR_futr_4_pred_low  \n",
       "12           34.448244           34.814144           33.240164  \n",
       "13           29.940841           29.419546           29.121877  \n",
       "14           29.940841           29.825603           29.276685  \n",
       "15           32.910660           33.951594           32.752714  \n",
       "16           39.071629           38.109498           37.385537  \n",
       "\n",
       "[5 rows x 34 columns]"
      ]
     },
     "execution_count": 7,
     "metadata": {},
     "output_type": "execute_result"
    }
   ],
   "source": [
    "df_pred.head()"
   ]
  },
  {
   "cell_type": "code",
   "execution_count": 8,
   "metadata": {
    "collapsed": true
   },
   "outputs": [],
   "source": [
    "well_name = 'B03'\n",
    "bit_depth = 1569.0\n",
    "tol = 50"
   ]
  },
  {
   "cell_type": "code",
   "execution_count": 9,
   "metadata": {},
   "outputs": [
    {
     "data": {
      "text/html": [
       "<div>\n",
       "<style scoped>\n",
       "    .dataframe tbody tr th:only-of-type {\n",
       "        vertical-align: middle;\n",
       "    }\n",
       "\n",
       "    .dataframe tbody tr th {\n",
       "        vertical-align: top;\n",
       "    }\n",
       "\n",
       "    .dataframe thead th {\n",
       "        text-align: right;\n",
       "    }\n",
       "</style>\n",
       "<table border=\"1\" class=\"dataframe\">\n",
       "  <thead>\n",
       "    <tr style=\"text-align: right;\">\n",
       "      <th></th>\n",
       "      <th>HACKANAME</th>\n",
       "      <th>TVDSS_bit_depth</th>\n",
       "      <th>pred_col</th>\n",
       "      <th>value</th>\n",
       "      <th>offset</th>\n",
       "      <th>log_name</th>\n",
       "      <th>model_name</th>\n",
       "      <th>TVDSS</th>\n",
       "    </tr>\n",
       "  </thead>\n",
       "  <tbody>\n",
       "    <tr>\n",
       "      <th>0</th>\n",
       "      <td>B03</td>\n",
       "      <td>1568.4</td>\n",
       "      <td>GR_futr_0_pred_high</td>\n",
       "      <td>53.783321</td>\n",
       "      <td>0.0</td>\n",
       "      <td>GR</td>\n",
       "      <td>high</td>\n",
       "      <td>1568.4</td>\n",
       "    </tr>\n",
       "    <tr>\n",
       "      <th>1</th>\n",
       "      <td>B03</td>\n",
       "      <td>1568.4</td>\n",
       "      <td>GR_futr_1_pred_high</td>\n",
       "      <td>39.002571</td>\n",
       "      <td>1.0</td>\n",
       "      <td>GR</td>\n",
       "      <td>high</td>\n",
       "      <td>1569.4</td>\n",
       "    </tr>\n",
       "    <tr>\n",
       "      <th>2</th>\n",
       "      <td>B03</td>\n",
       "      <td>1568.4</td>\n",
       "      <td>GR_futr_2_pred_high</td>\n",
       "      <td>43.621011</td>\n",
       "      <td>2.0</td>\n",
       "      <td>GR</td>\n",
       "      <td>high</td>\n",
       "      <td>1570.4</td>\n",
       "    </tr>\n",
       "    <tr>\n",
       "      <th>3</th>\n",
       "      <td>B03</td>\n",
       "      <td>1568.4</td>\n",
       "      <td>GR_futr_3_pred_high</td>\n",
       "      <td>48.364524</td>\n",
       "      <td>3.0</td>\n",
       "      <td>GR</td>\n",
       "      <td>high</td>\n",
       "      <td>1571.4</td>\n",
       "    </tr>\n",
       "    <tr>\n",
       "      <th>4</th>\n",
       "      <td>B03</td>\n",
       "      <td>1568.4</td>\n",
       "      <td>GR_futr_4_pred_high</td>\n",
       "      <td>52.735920</td>\n",
       "      <td>4.0</td>\n",
       "      <td>GR</td>\n",
       "      <td>high</td>\n",
       "      <td>1572.4</td>\n",
       "    </tr>\n",
       "  </tbody>\n",
       "</table>\n",
       "</div>"
      ],
      "text/plain": [
       "  HACKANAME  TVDSS_bit_depth             pred_col      value  offset log_name  \\\n",
       "0       B03           1568.4  GR_futr_0_pred_high  53.783321     0.0       GR   \n",
       "1       B03           1568.4  GR_futr_1_pred_high  39.002571     1.0       GR   \n",
       "2       B03           1568.4  GR_futr_2_pred_high  43.621011     2.0       GR   \n",
       "3       B03           1568.4  GR_futr_3_pred_high  48.364524     3.0       GR   \n",
       "4       B03           1568.4  GR_futr_4_pred_high  52.735920     4.0       GR   \n",
       "\n",
       "  model_name   TVDSS  \n",
       "0       high  1568.4  \n",
       "1       high  1569.4  \n",
       "2       high  1570.4  \n",
       "3       high  1571.4  \n",
       "4       high  1572.4  "
      ]
     },
     "execution_count": 9,
     "metadata": {},
     "output_type": "execute_result"
    }
   ],
   "source": [
    "predictions = munging.get_log_predictions(df_pred, well_name, bit_depth)\n",
    "\n",
    "predictions.head()"
   ]
  },
  {
   "cell_type": "code",
   "execution_count": 14,
   "metadata": {},
   "outputs": [
    {
     "data": {
      "image/png": "[encoded data removed]",
      "text/plain": [
       "<Figure size 576x864 with 2 Axes>"
      ]
     },
     "metadata": {},
     "output_type": "display_data"
    },
    {
     "name": "stdout",
     "output_type": "stream",
     "text": [
      "updated\n"
     ]
    }
   ],
   "source": [
    "def plot_predictions(df_logs, df_pred, well_name, bit_depth):\n",
    "    try:\n",
    "        f, ax = plots.make_log_plot(df_logs, well_name, cols=['GR', 'RHOB'])\n",
    "        predictions = munging.get_log_predictions(df_pred, well_name, bit_depth)\n",
    "        \n",
    "        plots.add_predictions(ax[0], predictions)\n",
    "        \n",
    "        #for axs in ax:\n",
    "            #axs.set_ylim(1800, 1760)\n",
    "        plt.show()\n",
    "        \n",
    "        print('updated')\n",
    "        \n",
    "    except AssertionError:\n",
    "        #f, ax = plots.make_log_plot(df_logs, well_name)\n",
    "        print('no predictions found at this depth in this well')\n",
    "\n",
    "\n",
    "interact(plot_predictions, df_logs=fixed(df_logs), df_pred=fixed(df_pred),\n",
    "         well_name=fixed(well_name), bit_depth=(1560, 1580, 1));"
   ]
  },
  {
   "cell_type": "code",
   "execution_count": 45,
   "metadata": {},
   "outputs": [
    {
     "data": {
      "text/plain": [
       "<matplotlib.collections.PathCollection at 0x272d26946a0>"
      ]
     },
     "execution_count": 45,
     "metadata": {},
     "output_type": "execute_result"
    },
    {
     "data": {
      "image/png": "[encoded data removed]",
      "text/plain": [
       "<Figure size 576x864 with 3 Axes>"
      ]
     },
     "metadata": {},
     "output_type": "display_data"
    }
   ],
   "source": [
    "f, ax = plots.make_log_plot(df_logs, 'B05')\n",
    "ax[0].scatter(predictions['value'], predictions['TVDSS'], marker='+')"
   ]
  },
  {
   "cell_type": "code",
   "execution_count": null,
   "metadata": {
    "collapsed": true
   },
   "outputs": [],
   "source": []
  }
 ],
 "metadata": {
  "kernelspec": {
   "display_name": "mysticbit",
   "language": "python",
   "name": "mysticbit"
  },
  "language_info": {
   "codemirror_mode": {
    "name": "ipython",
    "version": 3
   },
   "file_extension": ".py",
   "mimetype": "text/x-python",
   "name": "python",
   "nbconvert_exporter": "python",
   "pygments_lexer": "ipython3",
   "version": "3.6.5"
  }
 },
 "nbformat": 4,
 "nbformat_minor": 2
}
