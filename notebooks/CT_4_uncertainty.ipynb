{
 "cells": [
  {
   "cell_type": "markdown",
   "metadata": {},
   "source": [
    "## Log data munging and EDA\n",
    "\n",
    "Just getting set up, testing"
   ]
  },
  {
   "cell_type": "code",
   "execution_count": 2,
   "metadata": {},
   "outputs": [],
   "source": [
    "import pandas as pd\n",
    "import numpy as np\n",
    "from ipywidgets import interact, interactive, fixed, interact_manual\n",
    "import ipywidgets as widgets\n",
    "import seaborn as sns\n",
    "import matplotlib.pyplot as plt\n",
    "%matplotlib inline"
   ]
  },
  {
   "cell_type": "code",
   "execution_count": 3,
   "metadata": {},
   "outputs": [
    {
     "name": "stdout",
     "output_type": "stream",
     "text": [
      "Do you really want to drill me?\n",
      "Do you really want to make me cry\n",
      "AH AH AH AH\n"
     ]
    },
    {
     "name": "stderr",
     "output_type": "stream",
     "text": [
      "C:\\Users\\patri\\Anaconda3\\lib\\site-packages\\sklearn\\ensemble\\weight_boosting.py:29: DeprecationWarning: numpy.core.umath_tests is an internal NumPy module and should not be imported. It will be removed in a future NumPy release.\n",
      "  from numpy.core.umath_tests import inner1d\n"
     ]
    }
   ],
   "source": [
    "import sys\n",
    "sys.path.insert(0,'../')\n",
    "\n",
    "import mysticbit\n",
    "from mysticbit import munging, ml, plots"
   ]
  },
  {
   "cell_type": "code",
   "execution_count": 4,
   "metadata": {},
   "outputs": [
    {
     "name": "stdout",
     "output_type": "stream",
     "text": [
      "Train well:  {'B200', 'G06', 'G08', 'G09', 'G070', 'B12', 'G12', 'B0700', 'G15', 'G10', 'B14', 'B08', 'G16', 'G17', 'B13'}\n",
      "Test wells:  {'B05', 'B06', 'B03'}\n"
     ]
    }
   ],
   "source": [
    "df_logs = munging.load_log_data()\n",
    "\n",
    "df_ml = munging.create_ml_dataframe(df_logs, feature_lags = range(10), label_lags = range(5))\n",
    "\n",
    "df_ml_train, df_ml_test = ml.train_test_split(df_ml)"
   ]
  },
  {
   "cell_type": "code",
   "execution_count": 5,
   "metadata": {},
   "outputs": [
    {
     "name": "stdout",
     "output_type": "stream",
     "text": [
      "X cols:  ['GR_lag_0', 'GR_lag_1', 'GR_lag_2', 'GR_lag_3', 'GR_lag_4', 'GR_lag_5', 'GR_lag_6', 'GR_lag_7', 'GR_lag_8', 'GR_lag_9']\n",
      "y cols:  ['GR_futr_0', 'GR_futr_1', 'GR_futr_2', 'GR_futr_3', 'GR_futr_4']\n"
     ]
    }
   ],
   "source": [
    "X_cols = [c for c in df_ml_train.columns if 'lag' in c]\n",
    "y_cols = [c for c in df_ml_train.columns if 'futr' in c]\n",
    "\n",
    "print('X cols: ', X_cols)\n",
    "print('y cols: ', y_cols)"
   ]
  },
  {
   "cell_type": "code",
   "execution_count": 6,
   "metadata": {},
   "outputs": [],
   "source": [
    "models = ml.make_multiple_models(df_ml_train, X_cols, y_cols)"
   ]
  },
  {
   "cell_type": "code",
   "execution_count": 7,
   "metadata": {},
   "outputs": [],
   "source": [
    "df_pred = ml.make_predictions(models, df_ml, X_cols, y_cols)"
   ]
  },
  {
   "cell_type": "code",
   "execution_count": 8,
   "metadata": {},
   "outputs": [
    {
     "data": {
      "text/html": [
       "<div>\n",
       "<style scoped>\n",
       "    .dataframe tbody tr th:only-of-type {\n",
       "        vertical-align: middle;\n",
       "    }\n",
       "\n",
       "    .dataframe tbody tr th {\n",
       "        vertical-align: top;\n",
       "    }\n",
       "\n",
       "    .dataframe thead th {\n",
       "        text-align: right;\n",
       "    }\n",
       "</style>\n",
       "<table border=\"1\" class=\"dataframe\">\n",
       "  <thead>\n",
       "    <tr style=\"text-align: right;\">\n",
       "      <th></th>\n",
       "      <th>HACKANAME</th>\n",
       "      <th>TVDSS</th>\n",
       "      <th>GR</th>\n",
       "      <th>RES_ID</th>\n",
       "      <th>GR_lag_0</th>\n",
       "      <th>GR_lag_1</th>\n",
       "      <th>GR_lag_2</th>\n",
       "      <th>GR_lag_3</th>\n",
       "      <th>GR_lag_4</th>\n",
       "      <th>GR_lag_5</th>\n",
       "      <th>...</th>\n",
       "      <th>GR_futr_0_pred_base</th>\n",
       "      <th>GR_futr_1_pred_base</th>\n",
       "      <th>GR_futr_2_pred_base</th>\n",
       "      <th>GR_futr_3_pred_base</th>\n",
       "      <th>GR_futr_4_pred_base</th>\n",
       "      <th>GR_futr_0_pred_low</th>\n",
       "      <th>GR_futr_1_pred_low</th>\n",
       "      <th>GR_futr_2_pred_low</th>\n",
       "      <th>GR_futr_3_pred_low</th>\n",
       "      <th>GR_futr_4_pred_low</th>\n",
       "    </tr>\n",
       "  </thead>\n",
       "  <tbody>\n",
       "    <tr>\n",
       "      <th>0</th>\n",
       "      <td>B03</td>\n",
       "      <td>1583</td>\n",
       "      <td>58.601429</td>\n",
       "      <td>3005.0</td>\n",
       "      <td>58.601429</td>\n",
       "      <td>49.958333</td>\n",
       "      <td>55.180000</td>\n",
       "      <td>57.498000</td>\n",
       "      <td>36.400000</td>\n",
       "      <td>34.288000</td>\n",
       "      <td>...</td>\n",
       "      <td>58.974137</td>\n",
       "      <td>60.064967</td>\n",
       "      <td>59.208898</td>\n",
       "      <td>60.618342</td>\n",
       "      <td>57.706053</td>\n",
       "      <td>58.336405</td>\n",
       "      <td>41.717980</td>\n",
       "      <td>43.853588</td>\n",
       "      <td>41.769266</td>\n",
       "      <td>40.685719</td>\n",
       "    </tr>\n",
       "    <tr>\n",
       "      <th>1</th>\n",
       "      <td>B03</td>\n",
       "      <td>1584</td>\n",
       "      <td>51.303333</td>\n",
       "      <td>3005.0</td>\n",
       "      <td>51.303333</td>\n",
       "      <td>58.601429</td>\n",
       "      <td>49.958333</td>\n",
       "      <td>55.180000</td>\n",
       "      <td>57.498000</td>\n",
       "      <td>36.400000</td>\n",
       "      <td>...</td>\n",
       "      <td>51.412135</td>\n",
       "      <td>51.310896</td>\n",
       "      <td>52.329925</td>\n",
       "      <td>51.729542</td>\n",
       "      <td>44.724007</td>\n",
       "      <td>51.380918</td>\n",
       "      <td>40.974550</td>\n",
       "      <td>38.897448</td>\n",
       "      <td>39.571634</td>\n",
       "      <td>36.801894</td>\n",
       "    </tr>\n",
       "    <tr>\n",
       "      <th>2</th>\n",
       "      <td>B03</td>\n",
       "      <td>1586</td>\n",
       "      <td>52.490000</td>\n",
       "      <td>3005.0</td>\n",
       "      <td>52.490000</td>\n",
       "      <td>51.303333</td>\n",
       "      <td>58.601429</td>\n",
       "      <td>49.958333</td>\n",
       "      <td>55.180000</td>\n",
       "      <td>57.498000</td>\n",
       "      <td>...</td>\n",
       "      <td>52.448241</td>\n",
       "      <td>49.807871</td>\n",
       "      <td>50.546379</td>\n",
       "      <td>43.214482</td>\n",
       "      <td>43.922879</td>\n",
       "      <td>52.256301</td>\n",
       "      <td>42.770184</td>\n",
       "      <td>41.353779</td>\n",
       "      <td>37.205508</td>\n",
       "      <td>37.314543</td>\n",
       "    </tr>\n",
       "    <tr>\n",
       "      <th>3</th>\n",
       "      <td>B03</td>\n",
       "      <td>1587</td>\n",
       "      <td>53.040000</td>\n",
       "      <td>3005.0</td>\n",
       "      <td>53.040000</td>\n",
       "      <td>52.490000</td>\n",
       "      <td>51.303333</td>\n",
       "      <td>58.601429</td>\n",
       "      <td>49.958333</td>\n",
       "      <td>55.180000</td>\n",
       "      <td>...</td>\n",
       "      <td>53.634552</td>\n",
       "      <td>52.086479</td>\n",
       "      <td>48.875803</td>\n",
       "      <td>44.512364</td>\n",
       "      <td>43.428802</td>\n",
       "      <td>52.748267</td>\n",
       "      <td>41.205752</td>\n",
       "      <td>37.934715</td>\n",
       "      <td>38.355591</td>\n",
       "      <td>36.151753</td>\n",
       "    </tr>\n",
       "    <tr>\n",
       "      <th>4</th>\n",
       "      <td>B03</td>\n",
       "      <td>1591</td>\n",
       "      <td>58.120000</td>\n",
       "      <td>3005.0</td>\n",
       "      <td>58.120000</td>\n",
       "      <td>53.040000</td>\n",
       "      <td>52.490000</td>\n",
       "      <td>51.303333</td>\n",
       "      <td>58.601429</td>\n",
       "      <td>49.958333</td>\n",
       "      <td>...</td>\n",
       "      <td>57.527180</td>\n",
       "      <td>58.114790</td>\n",
       "      <td>55.914519</td>\n",
       "      <td>52.800181</td>\n",
       "      <td>52.402998</td>\n",
       "      <td>58.016980</td>\n",
       "      <td>45.717616</td>\n",
       "      <td>45.297378</td>\n",
       "      <td>38.649961</td>\n",
       "      <td>39.045873</td>\n",
       "    </tr>\n",
       "  </tbody>\n",
       "</table>\n",
       "<p>5 rows × 34 columns</p>\n",
       "</div>"
      ],
      "text/plain": [
       "  HACKANAME  TVDSS         GR  RES_ID   GR_lag_0   GR_lag_1   GR_lag_2  \\\n",
       "0       B03   1583  58.601429  3005.0  58.601429  49.958333  55.180000   \n",
       "1       B03   1584  51.303333  3005.0  51.303333  58.601429  49.958333   \n",
       "2       B03   1586  52.490000  3005.0  52.490000  51.303333  58.601429   \n",
       "3       B03   1587  53.040000  3005.0  53.040000  52.490000  51.303333   \n",
       "4       B03   1591  58.120000  3005.0  58.120000  53.040000  52.490000   \n",
       "\n",
       "    GR_lag_3   GR_lag_4   GR_lag_5         ...          GR_futr_0_pred_base  \\\n",
       "0  57.498000  36.400000  34.288000         ...                    58.974137   \n",
       "1  55.180000  57.498000  36.400000         ...                    51.412135   \n",
       "2  49.958333  55.180000  57.498000         ...                    52.448241   \n",
       "3  58.601429  49.958333  55.180000         ...                    53.634552   \n",
       "4  51.303333  58.601429  49.958333         ...                    57.527180   \n",
       "\n",
       "   GR_futr_1_pred_base  GR_futr_2_pred_base  GR_futr_3_pred_base  \\\n",
       "0            60.064967            59.208898            60.618342   \n",
       "1            51.310896            52.329925            51.729542   \n",
       "2            49.807871            50.546379            43.214482   \n",
       "3            52.086479            48.875803            44.512364   \n",
       "4            58.114790            55.914519            52.800181   \n",
       "\n",
       "   GR_futr_4_pred_base  GR_futr_0_pred_low  GR_futr_1_pred_low  \\\n",
       "0            57.706053           58.336405           41.717980   \n",
       "1            44.724007           51.380918           40.974550   \n",
       "2            43.922879           52.256301           42.770184   \n",
       "3            43.428802           52.748267           41.205752   \n",
       "4            52.402998           58.016980           45.717616   \n",
       "\n",
       "   GR_futr_2_pred_low  GR_futr_3_pred_low  GR_futr_4_pred_low  \n",
       "0           43.853588           41.769266           40.685719  \n",
       "1           38.897448           39.571634           36.801894  \n",
       "2           41.353779           37.205508           37.314543  \n",
       "3           37.934715           38.355591           36.151753  \n",
       "4           45.297378           38.649961           39.045873  \n",
       "\n",
       "[5 rows x 34 columns]"
      ]
     },
     "execution_count": 8,
     "metadata": {},
     "output_type": "execute_result"
    }
   ],
   "source": [
    "df_pred.head()"
   ]
  },
  {
   "cell_type": "code",
   "execution_count": 9,
   "metadata": {},
   "outputs": [
    {
     "data": {
      "text/html": [
       "<div>\n",
       "<style scoped>\n",
       "    .dataframe tbody tr th:only-of-type {\n",
       "        vertical-align: middle;\n",
       "    }\n",
       "\n",
       "    .dataframe tbody tr th {\n",
       "        vertical-align: top;\n",
       "    }\n",
       "\n",
       "    .dataframe thead th {\n",
       "        text-align: right;\n",
       "    }\n",
       "</style>\n",
       "<table border=\"1\" class=\"dataframe\">\n",
       "  <thead>\n",
       "    <tr style=\"text-align: right;\">\n",
       "      <th></th>\n",
       "      <th>HACKANAME</th>\n",
       "      <th>TVDSS_bit_depth</th>\n",
       "      <th>pred_col</th>\n",
       "      <th>value</th>\n",
       "      <th>offset</th>\n",
       "      <th>log_name</th>\n",
       "      <th>model_name</th>\n",
       "      <th>TVDSS</th>\n",
       "    </tr>\n",
       "  </thead>\n",
       "  <tbody>\n",
       "    <tr>\n",
       "      <th>0</th>\n",
       "      <td>B05</td>\n",
       "      <td>1800</td>\n",
       "      <td>GR_futr_0_pred_high</td>\n",
       "      <td>54.753956</td>\n",
       "      <td>0.0</td>\n",
       "      <td>GR</td>\n",
       "      <td>high</td>\n",
       "      <td>1800.0</td>\n",
       "    </tr>\n",
       "    <tr>\n",
       "      <th>1</th>\n",
       "      <td>B05</td>\n",
       "      <td>1800</td>\n",
       "      <td>GR_futr_1_pred_high</td>\n",
       "      <td>66.954189</td>\n",
       "      <td>1.0</td>\n",
       "      <td>GR</td>\n",
       "      <td>high</td>\n",
       "      <td>1801.0</td>\n",
       "    </tr>\n",
       "    <tr>\n",
       "      <th>2</th>\n",
       "      <td>B05</td>\n",
       "      <td>1800</td>\n",
       "      <td>GR_futr_2_pred_high</td>\n",
       "      <td>76.297399</td>\n",
       "      <td>2.0</td>\n",
       "      <td>GR</td>\n",
       "      <td>high</td>\n",
       "      <td>1802.0</td>\n",
       "    </tr>\n",
       "    <tr>\n",
       "      <th>3</th>\n",
       "      <td>B05</td>\n",
       "      <td>1800</td>\n",
       "      <td>GR_futr_3_pred_high</td>\n",
       "      <td>79.447898</td>\n",
       "      <td>3.0</td>\n",
       "      <td>GR</td>\n",
       "      <td>high</td>\n",
       "      <td>1803.0</td>\n",
       "    </tr>\n",
       "    <tr>\n",
       "      <th>4</th>\n",
       "      <td>B05</td>\n",
       "      <td>1800</td>\n",
       "      <td>GR_futr_4_pred_high</td>\n",
       "      <td>81.669788</td>\n",
       "      <td>4.0</td>\n",
       "      <td>GR</td>\n",
       "      <td>high</td>\n",
       "      <td>1804.0</td>\n",
       "    </tr>\n",
       "  </tbody>\n",
       "</table>\n",
       "</div>"
      ],
      "text/plain": [
       "  HACKANAME  TVDSS_bit_depth             pred_col      value  offset log_name  \\\n",
       "0       B05             1800  GR_futr_0_pred_high  54.753956     0.0       GR   \n",
       "1       B05             1800  GR_futr_1_pred_high  66.954189     1.0       GR   \n",
       "2       B05             1800  GR_futr_2_pred_high  76.297399     2.0       GR   \n",
       "3       B05             1800  GR_futr_3_pred_high  79.447898     3.0       GR   \n",
       "4       B05             1800  GR_futr_4_pred_high  81.669788     4.0       GR   \n",
       "\n",
       "  model_name   TVDSS  \n",
       "0       high  1800.0  \n",
       "1       high  1801.0  \n",
       "2       high  1802.0  \n",
       "3       high  1803.0  \n",
       "4       high  1804.0  "
      ]
     },
     "execution_count": 9,
     "metadata": {},
     "output_type": "execute_result"
    }
   ],
   "source": [
    "well_name = 'B05'\n",
    "bit_depth = 1800\n",
    "\n",
    "predictions = munging.get_log_predictions(df_pred, well_name, bit_depth)\n",
    "predictions.head()"
   ]
  },
  {
   "cell_type": "code",
   "execution_count": 10,
   "metadata": {},
   "outputs": [
    {
     "data": {
      "image/png": "[encoded data removed]",
      "text/plain": [
       "<Figure size 576x864 with 3 Axes>"
      ]
     },
     "metadata": {
      "needs_background": "light"
     },
     "output_type": "display_data"
    },
    {
     "name": "stdout",
     "output_type": "stream",
     "text": [
      "updated\n"
     ]
    }
   ],
   "source": [
    "def plot_predictions(df_logs, df_pred, well_name, bit_depth):\n",
    "    try:\n",
    "        f, ax = plots.make_log_plot(df_logs, well_name)\n",
    "        predictions = munging.get_log_predictions(df_pred, well_name, bit_depth)\n",
    "        \n",
    "        plots.add_predictions(ax[0], predictions)\n",
    "        \n",
    "        for axs in ax:\n",
    "            axs.set_ylim(1800, 1760)\n",
    "        plt.show()\n",
    "        \n",
    "        print('updated')\n",
    "        \n",
    "    except AssertionError:\n",
    "        f, ax = plots.make_log_plot(df_logs, well_name)\n",
    "        print('no predictions found at this depth in this well')\n",
    "\n",
    "\n",
    "interact(plot_predictions, df_logs=fixed(df_logs), df_pred=fixed(df_pred),\n",
    "         well_name=fixed(well_name), bit_depth=(1760, 1800, 1));"
   ]
  },
  {
   "cell_type": "code",
   "execution_count": 11,
   "metadata": {},
   "outputs": [
    {
     "data": {
      "text/plain": [
       "<matplotlib.collections.PathCollection at 0x27974d681d0>"
      ]
     },
     "execution_count": 11,
     "metadata": {},
     "output_type": "execute_result"
    },
    {
     "data": {
      "image/png": "[encoded data removed]",
      "text/plain": [
       "<Figure size 576x864 with 3 Axes>"
      ]
     },
     "metadata": {
      "needs_background": "light"
     },
     "output_type": "display_data"
    }
   ],
   "source": [
    "f, ax = plots.make_log_plot(df_logs, 'B05')\n",
    "ax[0].scatter(predictions['value'], predictions['TVDSS'], marker='+')"
   ]
  },
  {
   "cell_type": "code",
   "execution_count": null,
   "metadata": {},
   "outputs": [
    {
     "name": "stdout",
     "output_type": "stream",
     "text": [
      "{'estimator__alpha': 0.5, 'estimator__criterion': 'friedman_mse', 'estimator__init': None, 'estimator__learning_rate': 0.1, 'estimator__loss': 'quantile', 'estimator__max_depth': 3, 'estimator__max_features': None, 'estimator__max_leaf_nodes': None, 'estimator__min_impurity_decrease': 0.0, 'estimator__min_impurity_split': None, 'estimator__min_samples_leaf': 1, 'estimator__min_samples_split': 2, 'estimator__min_weight_fraction_leaf': 0.0, 'estimator__n_estimators': 100, 'estimator__presort': 'auto', 'estimator__random_state': None, 'estimator__subsample': 1.0, 'estimator__verbose': 0, 'estimator__warm_start': False, 'estimator': GradientBoostingRegressor(alpha=0.5, criterion='friedman_mse', init=None,\n",
      "             learning_rate=0.1, loss='quantile', max_depth=3,\n",
      "             max_features=None, max_leaf_nodes=None,\n",
      "             min_impurity_decrease=0.0, min_impurity_split=None,\n",
      "             min_samples_leaf=1, min_samples_split=2,\n",
      "             min_weight_fraction_leaf=0.0, n_estimators=100,\n",
      "             presort='auto', random_state=None, subsample=1.0, verbose=0,\n",
      "             warm_start=False), 'n_jobs': 1}\n"
     ]
    }
   ],
   "source": [
    "import pandas as pd\n",
    "from sklearn.ensemble import RandomForestRegressor, GradientBoostingRegressor\n",
    "from sklearn.multioutput import MultiOutputRegressor\n",
    "from sklearn.pipeline import Pipeline, make_pipeline\n",
    "from sklearn.model_selection import LeavePGroupsOut\n",
    "from sklearn.preprocessing import RobustScaler\n",
    "from sklearn.cluster import KMeans\n",
    "from sklearn.model_selection import LeaveOneGroupOut\n",
    "from sklearn.model_selection import GridSearchCV\n",
    "\n",
    "parameters = {'estimator__n_estimators':[5,20,100,500], 'estimator__learning_rate':[0.1,0.5,0.8,1],'estimator__max_depth': [3,10,15,50,100], \n",
    "             'estimator__max_features': [5,10,25,50], 'estimator__subsample': [0.5,0.7,0.8,0.9,1.0], 'estimator__min_samples_leaf': [1,2,10,50,100],\n",
    "             'estimator__min_samples_split': [2,10,50,100]}\n",
    "model = MultiOutputRegressor(GradientBoostingRegressor(loss='quantile', alpha=0.5))\n",
    "\n",
    "X_train = df_ml_train[X_cols]\n",
    "y_train = df_ml_train[y_cols]\n",
    "grps_train = df_ml_train['HACKANAME']\n",
    "print(model.get_params())\n",
    "\n",
    "cv = LeaveOneGroupOut()\n",
    "clf = GridSearchCV(model, parameters, cv=cv, scoring='neg_mean_squared_error',n_jobs=-1)\n",
    "clf.fit(X_train, y_train, groups=grps_train)\n",
    "results = pd.DataFrame(clf.cv_results_).sort_values('mean_train_score',ascending=False)\n",
    "results.head()\n"
   ]
  }
 ],
 "metadata": {
  "kernelspec": {
   "display_name": "geocomp",
   "language": "python",
   "name": "geocomp"
  },
  "language_info": {
   "codemirror_mode": {
    "name": "ipython",
    "version": 3
   },
   "file_extension": ".py",
   "mimetype": "text/x-python",
   "name": "python",
   "nbconvert_exporter": "python",
   "pygments_lexer": "ipython3",
   "version": "3.7.0"
  }
 },
 "nbformat": 4,
 "nbformat_minor": 2
}
