{
 "cells": [
  {
   "cell_type": "markdown",
   "metadata": {},
   "source": [
    "## Log data munging and EDA\n",
    "\n",
    "Just getting set up, testing"
   ]
  },
  {
   "cell_type": "code",
   "execution_count": 1,
   "metadata": {},
   "outputs": [],
   "source": [
    "import pandas as pd\n",
    "import numpy as np\n",
    "import seaborn as sns\n",
    "import matplotlib.pyplot as plt\n",
    "%matplotlib inline\n",
    "\n",
    "from ipywidgets import interact, interactive, fixed, interact_manual\n",
    "import ipywidgets as widgets"
   ]
  },
  {
   "cell_type": "code",
   "execution_count": 2,
   "metadata": {},
   "outputs": [
    {
     "name": "stdout",
     "output_type": "stream",
     "text": [
      "Do you really want to drill me?\n",
      "Do you really want to make me cry\n",
      "AH AH AH AH\n"
     ]
    }
   ],
   "source": [
    "import sys\n",
    "sys.path.insert(0,'../')\n",
    "\n",
    "import mysticbit\n",
    "from mysticbit import munging, ml, plots"
   ]
  },
  {
   "cell_type": "code",
   "execution_count": 12,
   "metadata": {},
   "outputs": [
    {
     "name": "stdout",
     "output_type": "stream",
     "text": [
      "Train well:  {'G12', 'G070', 'B12', 'B14', 'G09', 'G10', 'B200', 'G06', 'B13', 'G16', 'B0700', 'G08', 'B08', 'G17', 'G15'}\n",
      "Test wells:  {'B03', 'B05', 'B06'}\n"
     ]
    }
   ],
   "source": [
    "df_logs = munging.load_log_data()\n",
    "\n",
    "df_ml = munging.create_ml_dataframe(df_logs)\n",
    "\n",
    "df_ml_train, df_ml_test = ml.train_test_split(df_ml)"
   ]
  },
  {
   "cell_type": "code",
   "execution_count": 13,
   "metadata": {},
   "outputs": [
    {
     "name": "stdout",
     "output_type": "stream",
     "text": [
      "X cols:  ['GR_lag_0', 'GR_lag_2', 'GR_lag_4', 'GR_lag_6', 'GR_lag_8', 'GR_lag_10', 'GR_lag_12', 'GR_lag_14', 'GR_lag_16', 'GR_lag_18', 'GR_lag_20', 'GR_lag_22', 'GR_lag_24', 'GR_lag_26', 'GR_lag_28', 'GR_lag_30', 'GR_lag_32', 'GR_lag_34', 'GR_lag_36', 'GR_lag_38', 'GR_lag_40', 'GR_lag_42', 'GR_lag_44', 'GR_lag_46', 'GR_lag_48']\n",
      "y cols:  ['GR_futr_2', 'GR_futr_4', 'GR_futr_6', 'GR_futr_8', 'GR_futr_10']\n"
     ]
    }
   ],
   "source": [
    "X_cols = [c for c in df_ml_train.columns if 'lag' in c]\n",
    "y_cols = [c for c in df_ml_train.columns if 'futr' in c]\n",
    "\n",
    "print('X cols: ', X_cols)\n",
    "print('y cols: ', y_cols)"
   ]
  },
  {
   "cell_type": "code",
   "execution_count": 14,
   "metadata": {},
   "outputs": [],
   "source": [
    "models = ml.make_multiple_models(df_ml_train, X_cols, y_cols)"
   ]
  },
  {
   "cell_type": "code",
   "execution_count": 15,
   "metadata": {},
   "outputs": [],
   "source": [
    "df_pred = ml.make_predictions(models, df_ml, X_cols, y_cols)"
   ]
  },
  {
   "cell_type": "code",
   "execution_count": 16,
   "metadata": {},
   "outputs": [
    {
     "data": {
      "text/html": [
       "<div>\n",
       "<style scoped>\n",
       "    .dataframe tbody tr th:only-of-type {\n",
       "        vertical-align: middle;\n",
       "    }\n",
       "\n",
       "    .dataframe tbody tr th {\n",
       "        vertical-align: top;\n",
       "    }\n",
       "\n",
       "    .dataframe thead th {\n",
       "        text-align: right;\n",
       "    }\n",
       "</style>\n",
       "<table border=\"1\" class=\"dataframe\">\n",
       "  <thead>\n",
       "    <tr style=\"text-align: right;\">\n",
       "      <th></th>\n",
       "      <th>TVDSS</th>\n",
       "      <th>GR</th>\n",
       "      <th>HACKANAME</th>\n",
       "      <th>RES_ID</th>\n",
       "      <th>GR_lag_0</th>\n",
       "      <th>GR_lag_2</th>\n",
       "      <th>GR_lag_4</th>\n",
       "      <th>GR_lag_6</th>\n",
       "      <th>GR_lag_8</th>\n",
       "      <th>GR_lag_10</th>\n",
       "      <th>...</th>\n",
       "      <th>GR_futr_2_pred_base</th>\n",
       "      <th>GR_futr_4_pred_base</th>\n",
       "      <th>GR_futr_6_pred_base</th>\n",
       "      <th>GR_futr_8_pred_base</th>\n",
       "      <th>GR_futr_10_pred_base</th>\n",
       "      <th>GR_futr_2_pred_low</th>\n",
       "      <th>GR_futr_4_pred_low</th>\n",
       "      <th>GR_futr_6_pred_low</th>\n",
       "      <th>GR_futr_8_pred_low</th>\n",
       "      <th>GR_futr_10_pred_low</th>\n",
       "    </tr>\n",
       "  </thead>\n",
       "  <tbody>\n",
       "    <tr>\n",
       "      <th>411</th>\n",
       "      <td>1648.2</td>\n",
       "      <td>35.110</td>\n",
       "      <td>B03</td>\n",
       "      <td>2900.0</td>\n",
       "      <td>35.110</td>\n",
       "      <td>41.880</td>\n",
       "      <td>47.58</td>\n",
       "      <td>49.46</td>\n",
       "      <td>58.89</td>\n",
       "      <td>66.12</td>\n",
       "      <td>...</td>\n",
       "      <td>37.509070</td>\n",
       "      <td>39.400044</td>\n",
       "      <td>41.678567</td>\n",
       "      <td>46.768620</td>\n",
       "      <td>43.208771</td>\n",
       "      <td>34.699238</td>\n",
       "      <td>35.155859</td>\n",
       "      <td>34.408003</td>\n",
       "      <td>35.805192</td>\n",
       "      <td>33.184242</td>\n",
       "    </tr>\n",
       "    <tr>\n",
       "      <th>412</th>\n",
       "      <td>1648.4</td>\n",
       "      <td>35.364</td>\n",
       "      <td>B03</td>\n",
       "      <td>2900.0</td>\n",
       "      <td>35.364</td>\n",
       "      <td>37.480</td>\n",
       "      <td>44.26</td>\n",
       "      <td>51.80</td>\n",
       "      <td>48.44</td>\n",
       "      <td>63.61</td>\n",
       "      <td>...</td>\n",
       "      <td>37.509070</td>\n",
       "      <td>39.400044</td>\n",
       "      <td>41.913200</td>\n",
       "      <td>45.287007</td>\n",
       "      <td>42.765692</td>\n",
       "      <td>33.805844</td>\n",
       "      <td>36.677698</td>\n",
       "      <td>36.699332</td>\n",
       "      <td>37.444960</td>\n",
       "      <td>34.839224</td>\n",
       "    </tr>\n",
       "    <tr>\n",
       "      <th>413</th>\n",
       "      <td>1648.6</td>\n",
       "      <td>35.618</td>\n",
       "      <td>B03</td>\n",
       "      <td>2900.0</td>\n",
       "      <td>35.618</td>\n",
       "      <td>35.110</td>\n",
       "      <td>41.88</td>\n",
       "      <td>47.58</td>\n",
       "      <td>49.46</td>\n",
       "      <td>58.89</td>\n",
       "      <td>...</td>\n",
       "      <td>37.509070</td>\n",
       "      <td>38.913130</td>\n",
       "      <td>41.303017</td>\n",
       "      <td>41.008949</td>\n",
       "      <td>41.845247</td>\n",
       "      <td>35.256481</td>\n",
       "      <td>35.728316</td>\n",
       "      <td>34.949145</td>\n",
       "      <td>35.064803</td>\n",
       "      <td>33.903170</td>\n",
       "    </tr>\n",
       "    <tr>\n",
       "      <th>414</th>\n",
       "      <td>1648.8</td>\n",
       "      <td>35.872</td>\n",
       "      <td>B03</td>\n",
       "      <td>2900.0</td>\n",
       "      <td>35.872</td>\n",
       "      <td>35.364</td>\n",
       "      <td>37.48</td>\n",
       "      <td>44.26</td>\n",
       "      <td>51.80</td>\n",
       "      <td>48.44</td>\n",
       "      <td>...</td>\n",
       "      <td>37.509070</td>\n",
       "      <td>38.913130</td>\n",
       "      <td>39.131533</td>\n",
       "      <td>41.583942</td>\n",
       "      <td>39.585213</td>\n",
       "      <td>35.793339</td>\n",
       "      <td>35.751016</td>\n",
       "      <td>36.185952</td>\n",
       "      <td>35.064803</td>\n",
       "      <td>34.294933</td>\n",
       "    </tr>\n",
       "    <tr>\n",
       "      <th>415</th>\n",
       "      <td>1649.0</td>\n",
       "      <td>36.126</td>\n",
       "      <td>B03</td>\n",
       "      <td>2900.0</td>\n",
       "      <td>36.126</td>\n",
       "      <td>35.618</td>\n",
       "      <td>35.11</td>\n",
       "      <td>41.88</td>\n",
       "      <td>47.58</td>\n",
       "      <td>49.46</td>\n",
       "      <td>...</td>\n",
       "      <td>36.342807</td>\n",
       "      <td>37.248687</td>\n",
       "      <td>38.759783</td>\n",
       "      <td>41.718189</td>\n",
       "      <td>41.059543</td>\n",
       "      <td>35.462738</td>\n",
       "      <td>34.723550</td>\n",
       "      <td>35.874172</td>\n",
       "      <td>34.356628</td>\n",
       "      <td>34.727432</td>\n",
       "    </tr>\n",
       "  </tbody>\n",
       "</table>\n",
       "<p>5 rows × 49 columns</p>\n",
       "</div>"
      ],
      "text/plain": [
       "      TVDSS      GR HACKANAME  RES_ID  GR_lag_0  GR_lag_2  GR_lag_4  GR_lag_6  \\\n",
       "411  1648.2  35.110       B03  2900.0    35.110    41.880     47.58     49.46   \n",
       "412  1648.4  35.364       B03  2900.0    35.364    37.480     44.26     51.80   \n",
       "413  1648.6  35.618       B03  2900.0    35.618    35.110     41.88     47.58   \n",
       "414  1648.8  35.872       B03  2900.0    35.872    35.364     37.48     44.26   \n",
       "415  1649.0  36.126       B03  2900.0    36.126    35.618     35.11     41.88   \n",
       "\n",
       "     GR_lag_8  GR_lag_10         ...           GR_futr_2_pred_base  \\\n",
       "411     58.89      66.12         ...                     37.509070   \n",
       "412     48.44      63.61         ...                     37.509070   \n",
       "413     49.46      58.89         ...                     37.509070   \n",
       "414     51.80      48.44         ...                     37.509070   \n",
       "415     47.58      49.46         ...                     36.342807   \n",
       "\n",
       "     GR_futr_4_pred_base  GR_futr_6_pred_base  GR_futr_8_pred_base  \\\n",
       "411            39.400044            41.678567            46.768620   \n",
       "412            39.400044            41.913200            45.287007   \n",
       "413            38.913130            41.303017            41.008949   \n",
       "414            38.913130            39.131533            41.583942   \n",
       "415            37.248687            38.759783            41.718189   \n",
       "\n",
       "     GR_futr_10_pred_base  GR_futr_2_pred_low  GR_futr_4_pred_low  \\\n",
       "411             43.208771           34.699238           35.155859   \n",
       "412             42.765692           33.805844           36.677698   \n",
       "413             41.845247           35.256481           35.728316   \n",
       "414             39.585213           35.793339           35.751016   \n",
       "415             41.059543           35.462738           34.723550   \n",
       "\n",
       "     GR_futr_6_pred_low  GR_futr_8_pred_low  GR_futr_10_pred_low  \n",
       "411           34.408003           35.805192            33.184242  \n",
       "412           36.699332           37.444960            34.839224  \n",
       "413           34.949145           35.064803            33.903170  \n",
       "414           36.185952           35.064803            34.294933  \n",
       "415           35.874172           34.356628            34.727432  \n",
       "\n",
       "[5 rows x 49 columns]"
      ]
     },
     "execution_count": 16,
     "metadata": {},
     "output_type": "execute_result"
    }
   ],
   "source": [
    "df_pred.head()"
   ]
  },
  {
   "cell_type": "code",
   "execution_count": 17,
   "metadata": {},
   "outputs": [],
   "source": [
    "well_name = 'B03'\n",
    "bit_depth = 1655.0\n",
    "tol = 50"
   ]
  },
  {
   "cell_type": "code",
   "execution_count": 18,
   "metadata": {},
   "outputs": [
    {
     "data": {
      "text/html": [
       "<div>\n",
       "<style scoped>\n",
       "    .dataframe tbody tr th:only-of-type {\n",
       "        vertical-align: middle;\n",
       "    }\n",
       "\n",
       "    .dataframe tbody tr th {\n",
       "        vertical-align: top;\n",
       "    }\n",
       "\n",
       "    .dataframe thead th {\n",
       "        text-align: right;\n",
       "    }\n",
       "</style>\n",
       "<table border=\"1\" class=\"dataframe\">\n",
       "  <thead>\n",
       "    <tr style=\"text-align: right;\">\n",
       "      <th></th>\n",
       "      <th>HACKANAME</th>\n",
       "      <th>TVDSS_bit_depth</th>\n",
       "      <th>pred_col</th>\n",
       "      <th>value</th>\n",
       "      <th>offset</th>\n",
       "      <th>log_name</th>\n",
       "      <th>model_name</th>\n",
       "      <th>TVDSS</th>\n",
       "    </tr>\n",
       "  </thead>\n",
       "  <tbody>\n",
       "    <tr>\n",
       "      <th>0</th>\n",
       "      <td>B03</td>\n",
       "      <td>1654.0</td>\n",
       "      <td>GR_futr_2_pred_high</td>\n",
       "      <td>55.958268</td>\n",
       "      <td>2.0</td>\n",
       "      <td>GR</td>\n",
       "      <td>high</td>\n",
       "      <td>1656.0</td>\n",
       "    </tr>\n",
       "    <tr>\n",
       "      <th>1</th>\n",
       "      <td>B03</td>\n",
       "      <td>1654.0</td>\n",
       "      <td>GR_futr_4_pred_high</td>\n",
       "      <td>64.518913</td>\n",
       "      <td>4.0</td>\n",
       "      <td>GR</td>\n",
       "      <td>high</td>\n",
       "      <td>1658.0</td>\n",
       "    </tr>\n",
       "    <tr>\n",
       "      <th>2</th>\n",
       "      <td>B03</td>\n",
       "      <td>1654.0</td>\n",
       "      <td>GR_futr_6_pred_high</td>\n",
       "      <td>66.636413</td>\n",
       "      <td>6.0</td>\n",
       "      <td>GR</td>\n",
       "      <td>high</td>\n",
       "      <td>1660.0</td>\n",
       "    </tr>\n",
       "    <tr>\n",
       "      <th>3</th>\n",
       "      <td>B03</td>\n",
       "      <td>1654.0</td>\n",
       "      <td>GR_futr_8_pred_high</td>\n",
       "      <td>66.721493</td>\n",
       "      <td>8.0</td>\n",
       "      <td>GR</td>\n",
       "      <td>high</td>\n",
       "      <td>1662.0</td>\n",
       "    </tr>\n",
       "    <tr>\n",
       "      <th>4</th>\n",
       "      <td>B03</td>\n",
       "      <td>1654.0</td>\n",
       "      <td>GR_futr_10_pred_high</td>\n",
       "      <td>68.861481</td>\n",
       "      <td>10.0</td>\n",
       "      <td>GR</td>\n",
       "      <td>high</td>\n",
       "      <td>1664.0</td>\n",
       "    </tr>\n",
       "  </tbody>\n",
       "</table>\n",
       "</div>"
      ],
      "text/plain": [
       "  HACKANAME  TVDSS_bit_depth              pred_col      value  offset  \\\n",
       "0       B03           1654.0   GR_futr_2_pred_high  55.958268     2.0   \n",
       "1       B03           1654.0   GR_futr_4_pred_high  64.518913     4.0   \n",
       "2       B03           1654.0   GR_futr_6_pred_high  66.636413     6.0   \n",
       "3       B03           1654.0   GR_futr_8_pred_high  66.721493     8.0   \n",
       "4       B03           1654.0  GR_futr_10_pred_high  68.861481    10.0   \n",
       "\n",
       "  log_name model_name   TVDSS  \n",
       "0       GR       high  1656.0  \n",
       "1       GR       high  1658.0  \n",
       "2       GR       high  1660.0  \n",
       "3       GR       high  1662.0  \n",
       "4       GR       high  1664.0  "
      ]
     },
     "execution_count": 18,
     "metadata": {},
     "output_type": "execute_result"
    }
   ],
   "source": [
    "predictions = munging.get_log_predictions(df_pred, well_name, bit_depth)\n",
    "\n",
    "predictions.head()"
   ]
  },
  {
   "cell_type": "code",
   "execution_count": 19,
   "metadata": {},
   "outputs": [
    {
     "data": {
      "application/vnd.jupyter.widget-view+json": {
       "model_id": "f9cfce830cdf47f4af8f19376e589d7c",
       "version_major": 2,
       "version_minor": 0
      },
      "text/plain": [
       "interactive(children=(IntSlider(value=10, description='x', max=30, min=-10), Output()), _dom_classes=('widget-…"
      ]
     },
     "metadata": {},
     "output_type": "display_data"
    }
   ],
   "source": [
    "def f(x):\n",
    "    return x\n",
    "\n",
    "interact(f, x=10);"
   ]
  },
  {
   "cell_type": "code",
   "execution_count": 20,
   "metadata": {},
   "outputs": [
    {
     "data": {
      "application/vnd.jupyter.widget-view+json": {
       "model_id": "6f05c364aeef42339f9a953cf459ae5f",
       "version_major": 2,
       "version_minor": 0
      },
      "text/plain": [
       "interactive(children=(FloatSlider(value=1655.0, description='bit_depth', max=1675.0, min=1635.0, step=1.0), Ou…"
      ]
     },
     "metadata": {},
     "output_type": "display_data"
    }
   ],
   "source": [
    "def plot_predictions(df_logs, df_pred, well_name, bit_depth):\n",
    "    try:\n",
    "        f, ax = plots.make_log_plot(df_logs, well_name, cols=['GR', 'RHOB'])\n",
    "        predictions = munging.get_log_predictions(df_pred, well_name, bit_depth)\n",
    "        \n",
    "        plots.add_predictions(ax[0], predictions)\n",
    "        \n",
    "        #for axs in ax:\n",
    "            #axs.set_ylim(1800, 1760)\n",
    "        plt.show()\n",
    "        \n",
    "        print('updated')\n",
    "        \n",
    "    except AssertionError:\n",
    "        #f, ax = plots.make_log_plot(df_logs, well_name)\n",
    "        print('no predictions found at this depth in this well')\n",
    "\n",
    "\n",
    "interact(plot_predictions, df_logs=fixed(df_logs), df_pred=fixed(df_pred),\n",
    "         well_name=fixed(well_name), bit_depth=(bit_depth-20, bit_depth+20, 1));"
   ]
  },
  {
   "cell_type": "code",
   "execution_count": 23,
   "metadata": {},
   "outputs": [
    {
     "data": {
      "text/plain": [
       "<matplotlib.collections.PathCollection at 0x20967e98ba8>"
      ]
     },
     "execution_count": 23,
     "metadata": {},
     "output_type": "execute_result"
    },
    {
     "data": {
      "image/png": "[encoded data removed]",
      "text/plain": [
       "<Figure size 576x864 with 3 Axes>"
      ]
     },
     "metadata": {},
     "output_type": "display_data"
    }
   ],
   "source": [
    "f, ax = plots.make_log_plot(df_logs, 'B03')\n",
    "ax[0].scatter(predictions['value'], predictions['TVDSS'], marker='+')"
   ]
  },
  {
   "cell_type": "code",
   "execution_count": null,
   "metadata": {
    "collapsed": true
   },
   "outputs": [],
   "source": []
  }
 ],
 "metadata": {
  "kernelspec": {
   "display_name": "Python 3",
   "language": "python",
   "name": "python3"
  },
  "language_info": {
   "codemirror_mode": {
    "name": "ipython",
    "version": 3
   },
   "file_extension": ".py",
   "mimetype": "text/x-python",
   "name": "python",
   "nbconvert_exporter": "python",
   "pygments_lexer": "ipython3",
   "version": "3.6.4"
  }
 },
 "nbformat": 4,
 "nbformat_minor": 2
}
