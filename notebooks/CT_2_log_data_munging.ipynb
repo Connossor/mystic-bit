{
 "cells": [
  {
   "cell_type": "markdown",
   "metadata": {},
   "source": [
    "## Log data munging and EDA\n",
    "\n",
    "Just getting set up, testing"
   ]
  },
  {
   "cell_type": "code",
   "execution_count": 1,
   "metadata": {},
   "outputs": [],
   "source": [
    "import pandas as pd\n",
    "import numpy as np\n",
    "import seaborn as sns\n",
    "import matplotlib.pyplot as plt\n",
    "%matplotlib inline"
   ]
  },
  {
   "cell_type": "code",
   "execution_count": 3,
   "metadata": {},
   "outputs": [],
   "source": [
    "import sys\n",
    "sys.path.insert(0,'../')\n",
    "import mysticbit\n",
    "from mysticbit import munging, ml"
   ]
  },
  {
   "cell_type": "code",
   "execution_count": 4,
   "metadata": {},
   "outputs": [
    {
     "data": {
      "text/html": [
       "<div>\n",
       "<style scoped>\n",
       "    .dataframe tbody tr th:only-of-type {\n",
       "        vertical-align: middle;\n",
       "    }\n",
       "\n",
       "    .dataframe tbody tr th {\n",
       "        vertical-align: top;\n",
       "    }\n",
       "\n",
       "    .dataframe thead th {\n",
       "        text-align: right;\n",
       "    }\n",
       "</style>\n",
       "<table border=\"1\" class=\"dataframe\">\n",
       "  <thead>\n",
       "    <tr style=\"text-align: right;\">\n",
       "      <th></th>\n",
       "      <th>PSEUDO_DEPTH</th>\n",
       "      <th>TEMP</th>\n",
       "      <th>CALI</th>\n",
       "      <th>GR</th>\n",
       "      <th>ILD</th>\n",
       "      <th>NPHI</th>\n",
       "      <th>RHOB</th>\n",
       "      <th>DT</th>\n",
       "      <th>TVD</th>\n",
       "      <th>TVDSS</th>\n",
       "      <th>...</th>\n",
       "      <th>PHIE</th>\n",
       "      <th>PHIT</th>\n",
       "      <th>SW</th>\n",
       "      <th>EF</th>\n",
       "      <th>PERFOS</th>\n",
       "      <th>RES_ID</th>\n",
       "      <th>WELL_ID</th>\n",
       "      <th>X</th>\n",
       "      <th>Y</th>\n",
       "      <th>HACKANAME</th>\n",
       "    </tr>\n",
       "  </thead>\n",
       "  <tbody>\n",
       "    <tr>\n",
       "      <th>0</th>\n",
       "      <td>2074.53</td>\n",
       "      <td>87.19</td>\n",
       "      <td>10.31</td>\n",
       "      <td>55.08</td>\n",
       "      <td>3.3128</td>\n",
       "      <td>0.1678</td>\n",
       "      <td>2.3124</td>\n",
       "      <td>108.95</td>\n",
       "      <td>1588.62</td>\n",
       "      <td>1566.62</td>\n",
       "      <td>...</td>\n",
       "      <td>0.0591</td>\n",
       "      <td>0.2066</td>\n",
       "      <td>0.5863</td>\n",
       "      <td>5</td>\n",
       "      <td>0</td>\n",
       "      <td>3005</td>\n",
       "      <td>210075859</td>\n",
       "      <td>15</td>\n",
       "      <td>20.0</td>\n",
       "      <td>B03</td>\n",
       "    </tr>\n",
       "    <tr>\n",
       "      <th>1</th>\n",
       "      <td>2074.68</td>\n",
       "      <td>87.20</td>\n",
       "      <td>10.25</td>\n",
       "      <td>52.89</td>\n",
       "      <td>3.6592</td>\n",
       "      <td>0.1739</td>\n",
       "      <td>2.2895</td>\n",
       "      <td>110.91</td>\n",
       "      <td>1588.77</td>\n",
       "      <td>1566.77</td>\n",
       "      <td>...</td>\n",
       "      <td>0.0871</td>\n",
       "      <td>0.2222</td>\n",
       "      <td>0.5225</td>\n",
       "      <td>5</td>\n",
       "      <td>0</td>\n",
       "      <td>3005</td>\n",
       "      <td>210075859</td>\n",
       "      <td>15</td>\n",
       "      <td>20.0</td>\n",
       "      <td>B03</td>\n",
       "    </tr>\n",
       "    <tr>\n",
       "      <th>2</th>\n",
       "      <td>2074.83</td>\n",
       "      <td>87.20</td>\n",
       "      <td>10.20</td>\n",
       "      <td>52.54</td>\n",
       "      <td>4.1220</td>\n",
       "      <td>0.1618</td>\n",
       "      <td>2.2686</td>\n",
       "      <td>114.92</td>\n",
       "      <td>1588.92</td>\n",
       "      <td>1566.92</td>\n",
       "      <td>...</td>\n",
       "      <td>0.0730</td>\n",
       "      <td>0.2061</td>\n",
       "      <td>0.5004</td>\n",
       "      <td>5</td>\n",
       "      <td>0</td>\n",
       "      <td>3005</td>\n",
       "      <td>210075859</td>\n",
       "      <td>15</td>\n",
       "      <td>20.0</td>\n",
       "      <td>B03</td>\n",
       "    </tr>\n",
       "    <tr>\n",
       "      <th>3</th>\n",
       "      <td>2074.98</td>\n",
       "      <td>87.21</td>\n",
       "      <td>10.18</td>\n",
       "      <td>54.36</td>\n",
       "      <td>4.7189</td>\n",
       "      <td>0.1448</td>\n",
       "      <td>2.2533</td>\n",
       "      <td>119.66</td>\n",
       "      <td>1589.06</td>\n",
       "      <td>1567.06</td>\n",
       "      <td>...</td>\n",
       "      <td>0.0335</td>\n",
       "      <td>0.1768</td>\n",
       "      <td>0.4566</td>\n",
       "      <td>5</td>\n",
       "      <td>0</td>\n",
       "      <td>3005</td>\n",
       "      <td>210075859</td>\n",
       "      <td>15</td>\n",
       "      <td>20.0</td>\n",
       "      <td>B03</td>\n",
       "    </tr>\n",
       "    <tr>\n",
       "      <th>4</th>\n",
       "      <td>2075.90</td>\n",
       "      <td>87.24</td>\n",
       "      <td>9.76</td>\n",
       "      <td>48.13</td>\n",
       "      <td>13.0483</td>\n",
       "      <td>0.1085</td>\n",
       "      <td>2.0885</td>\n",
       "      <td>126.26</td>\n",
       "      <td>1589.94</td>\n",
       "      <td>1567.94</td>\n",
       "      <td>...</td>\n",
       "      <td>0.0331</td>\n",
       "      <td>0.1412</td>\n",
       "      <td>0.2211</td>\n",
       "      <td>1</td>\n",
       "      <td>1</td>\n",
       "      <td>3005</td>\n",
       "      <td>210075859</td>\n",
       "      <td>15</td>\n",
       "      <td>20.0</td>\n",
       "      <td>B03</td>\n",
       "    </tr>\n",
       "  </tbody>\n",
       "</table>\n",
       "<p>5 rows × 21 columns</p>\n",
       "</div>"
      ],
      "text/plain": [
       "   PSEUDO_DEPTH   TEMP   CALI     GR      ILD    NPHI    RHOB      DT  \\\n",
       "0       2074.53  87.19  10.31  55.08   3.3128  0.1678  2.3124  108.95   \n",
       "1       2074.68  87.20  10.25  52.89   3.6592  0.1739  2.2895  110.91   \n",
       "2       2074.83  87.20  10.20  52.54   4.1220  0.1618  2.2686  114.92   \n",
       "3       2074.98  87.21  10.18  54.36   4.7189  0.1448  2.2533  119.66   \n",
       "4       2075.90  87.24   9.76  48.13  13.0483  0.1085  2.0885  126.26   \n",
       "\n",
       "       TVD    TVDSS    ...        PHIE    PHIT      SW  EF  PERFOS  RES_ID  \\\n",
       "0  1588.62  1566.62    ...      0.0591  0.2066  0.5863   5       0    3005   \n",
       "1  1588.77  1566.77    ...      0.0871  0.2222  0.5225   5       0    3005   \n",
       "2  1588.92  1566.92    ...      0.0730  0.2061  0.5004   5       0    3005   \n",
       "3  1589.06  1567.06    ...      0.0335  0.1768  0.4566   5       0    3005   \n",
       "4  1589.94  1567.94    ...      0.0331  0.1412  0.2211   1       1    3005   \n",
       "\n",
       "     WELL_ID   X     Y  HACKANAME  \n",
       "0  210075859  15  20.0        B03  \n",
       "1  210075859  15  20.0        B03  \n",
       "2  210075859  15  20.0        B03  \n",
       "3  210075859  15  20.0        B03  \n",
       "4  210075859  15  20.0        B03  \n",
       "\n",
       "[5 rows x 21 columns]"
      ]
     },
     "execution_count": 4,
     "metadata": {},
     "output_type": "execute_result"
    }
   ],
   "source": [
    "df_logs = munging.load_log_data()\n",
    "df_logs.head()"
   ]
  },
  {
   "cell_type": "code",
   "execution_count": 5,
   "metadata": {},
   "outputs": [
    {
     "name": "stderr",
     "output_type": "stream",
     "text": [
      "C:\\Users\\Connor\\AppData\\Local\\conda\\conda\\envs\\mysticbit\\lib\\site-packages\\matplotlib\\axes\\_axes.py:6462: UserWarning: The 'normed' kwarg is deprecated, and has been replaced by the 'density' kwarg.\n",
      "  warnings.warn(\"The 'normed' kwarg is deprecated, and has been \"\n"
     ]
    },
    {
     "data": {
      "text/plain": [
       "<matplotlib.axes._subplots.AxesSubplot at 0x26490e0ed68>"
      ]
     },
     "execution_count": 5,
     "metadata": {},
     "output_type": "execute_result"
    },
    {
     "data": {
      "image/png": "[encoded data removed]",
      "text/plain": [
       "<Figure size 432x288 with 1 Axes>"
      ]
     },
     "metadata": {},
     "output_type": "display_data"
    }
   ],
   "source": [
    "sns.distplot(df_logs.TVDSS)"
   ]
  },
  {
   "cell_type": "code",
   "execution_count": 6,
   "metadata": {},
   "outputs": [
    {
     "data": {
      "text/plain": [
       "Index(['PSEUDO_DEPTH', 'TEMP', 'CALI', 'GR', 'ILD', 'NPHI', 'RHOB', 'DT',\n",
       "       'TVD', 'TVDSS', 'VCL', 'PHIE', 'PHIT', 'SW', 'EF', 'PERFOS', 'RES_ID',\n",
       "       'WELL_ID', 'X', 'Y', 'HACKANAME'],\n",
       "      dtype='object')"
      ]
     },
     "execution_count": 6,
     "metadata": {},
     "output_type": "execute_result"
    }
   ],
   "source": [
    "df_logs.columns"
   ]
  },
  {
   "cell_type": "code",
   "execution_count": 7,
   "metadata": {},
   "outputs": [
    {
     "data": {
      "text/html": [
       "<div>\n",
       "<style scoped>\n",
       "    .dataframe tbody tr th:only-of-type {\n",
       "        vertical-align: middle;\n",
       "    }\n",
       "\n",
       "    .dataframe tbody tr th {\n",
       "        vertical-align: top;\n",
       "    }\n",
       "\n",
       "    .dataframe thead th {\n",
       "        text-align: right;\n",
       "    }\n",
       "</style>\n",
       "<table border=\"1\" class=\"dataframe\">\n",
       "  <thead>\n",
       "    <tr style=\"text-align: right;\">\n",
       "      <th></th>\n",
       "      <th>HACKANAME</th>\n",
       "      <th>TVDSS</th>\n",
       "      <th>RES_ID</th>\n",
       "      <th>GR</th>\n",
       "      <th>GR_lag_1</th>\n",
       "      <th>GR_lag_2</th>\n",
       "      <th>GR_lag_3</th>\n",
       "      <th>GR_futr_5</th>\n",
       "      <th>GR_futr_10</th>\n",
       "    </tr>\n",
       "  </thead>\n",
       "  <tbody>\n",
       "    <tr>\n",
       "      <th>0</th>\n",
       "      <td>B03</td>\n",
       "      <td>1569</td>\n",
       "      <td>3005.0</td>\n",
       "      <td>42.234286</td>\n",
       "      <td>36.278571</td>\n",
       "      <td>51.245000</td>\n",
       "      <td>53.503333</td>\n",
       "      <td>49.958333</td>\n",
       "      <td>58.120000</td>\n",
       "    </tr>\n",
       "    <tr>\n",
       "      <th>1</th>\n",
       "      <td>B03</td>\n",
       "      <td>1570</td>\n",
       "      <td>3005.0</td>\n",
       "      <td>34.288000</td>\n",
       "      <td>42.234286</td>\n",
       "      <td>36.278571</td>\n",
       "      <td>51.245000</td>\n",
       "      <td>58.601429</td>\n",
       "      <td>57.525000</td>\n",
       "    </tr>\n",
       "    <tr>\n",
       "      <th>2</th>\n",
       "      <td>B03</td>\n",
       "      <td>1571</td>\n",
       "      <td>3005.0</td>\n",
       "      <td>36.400000</td>\n",
       "      <td>34.288000</td>\n",
       "      <td>42.234286</td>\n",
       "      <td>36.278571</td>\n",
       "      <td>51.303333</td>\n",
       "      <td>47.723333</td>\n",
       "    </tr>\n",
       "    <tr>\n",
       "      <th>3</th>\n",
       "      <td>B03</td>\n",
       "      <td>1572</td>\n",
       "      <td>3005.0</td>\n",
       "      <td>57.498000</td>\n",
       "      <td>36.400000</td>\n",
       "      <td>34.288000</td>\n",
       "      <td>42.234286</td>\n",
       "      <td>52.490000</td>\n",
       "      <td>49.120000</td>\n",
       "    </tr>\n",
       "    <tr>\n",
       "      <th>4</th>\n",
       "      <td>B03</td>\n",
       "      <td>1581</td>\n",
       "      <td>3005.0</td>\n",
       "      <td>55.180000</td>\n",
       "      <td>57.498000</td>\n",
       "      <td>36.400000</td>\n",
       "      <td>34.288000</td>\n",
       "      <td>53.040000</td>\n",
       "      <td>57.418571</td>\n",
       "    </tr>\n",
       "  </tbody>\n",
       "</table>\n",
       "</div>"
      ],
      "text/plain": [
       "  HACKANAME  TVDSS  RES_ID         GR   GR_lag_1   GR_lag_2   GR_lag_3  \\\n",
       "0       B03   1569  3005.0  42.234286  36.278571  51.245000  53.503333   \n",
       "1       B03   1570  3005.0  34.288000  42.234286  36.278571  51.245000   \n",
       "2       B03   1571  3005.0  36.400000  34.288000  42.234286  36.278571   \n",
       "3       B03   1572  3005.0  57.498000  36.400000  34.288000  42.234286   \n",
       "4       B03   1581  3005.0  55.180000  57.498000  36.400000  34.288000   \n",
       "\n",
       "   GR_futr_5  GR_futr_10  \n",
       "0  49.958333   58.120000  \n",
       "1  58.601429   57.525000  \n",
       "2  51.303333   47.723333  \n",
       "3  52.490000   49.120000  \n",
       "4  53.040000   57.418571  "
      ]
     },
     "execution_count": 7,
     "metadata": {},
     "output_type": "execute_result"
    }
   ],
   "source": [
    "df_ml = munging.create_ml_dataframe(df_logs)\n",
    "df_ml.head()"
   ]
  },
  {
   "cell_type": "code",
   "execution_count": 9,
   "metadata": {},
   "outputs": [
    {
     "name": "stdout",
     "output_type": "stream",
     "text": [
      "Train well:  {'B08', 'G06', 'B13', 'G070', 'G08', 'G12', 'G16', 'G15', 'B14', 'G10', 'B0700', 'B12', 'B200', 'G17', 'G09'}\n",
      "Test wells:  {'B06', 'B05', 'B03'}\n"
     ]
    }
   ],
   "source": [
    "df_ml_train, df_ml_test = ml.train_test_split(df_ml)"
   ]
  },
  {
   "cell_type": "code",
   "execution_count": 10,
   "metadata": {},
   "outputs": [
    {
     "data": {
      "text/plain": [
       "105"
      ]
     },
     "execution_count": 10,
     "metadata": {},
     "output_type": "execute_result"
    }
   ],
   "source": [
    "from sklearn.model_selection import LeavePGroupsOut\n",
    "\n",
    "# Cross validation\n",
    "\n",
    "X_train = df_ml_train[['GR', 'GR_lag_1']]\n",
    "y_train = df_ml_train['GR_futr_5']\n",
    "grps_train = df_ml_train['HACKANAME']\n",
    "\n",
    "cv = LeavePGroupsOut(2)\n",
    "n_splits = cv.get_n_splits(X_train, y_train, grps_train)\n",
    "n_splits"
   ]
  },
  {
   "cell_type": "code",
   "execution_count": null,
   "metadata": {},
   "outputs": [],
   "source": []
  }
 ],
 "metadata": {
  "kernelspec": {
   "display_name": "mysticbit",
   "language": "python",
   "name": "mysticbit"
  },
  "language_info": {
   "codemirror_mode": {
    "name": "ipython",
    "version": 3
   },
   "file_extension": ".py",
   "mimetype": "text/x-python",
   "name": "python",
   "nbconvert_exporter": "python",
   "pygments_lexer": "ipython3",
   "version": "3.6.5"
  }
 },
 "nbformat": 4,
 "nbformat_minor": 2
}
